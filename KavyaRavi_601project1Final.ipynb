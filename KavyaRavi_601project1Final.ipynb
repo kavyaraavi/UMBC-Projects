{
 "cells": [
  {
   "cell_type": "markdown",
   "id": "af6a6ba9",
   "metadata": {},
   "source": [
    "# 601 PROJECT 1\n",
    "\n",
    "### Dataset Source : https://catalog.data.gov/dataset/vaccines-gov-covid-19-vaccinating-provider-locations/resource/ab31aaf6-8a9f-4dd8-ab49-6813327afb94\n",
    "\n",
    "### This Anlaysis include following Hypothesis: \n",
    "1. How many vaccines instock accepts insurance?,\n",
    "2. Which state has low no. of insurance acceptance(states) for vaccine?, \n",
    "3. what is vaccine quantity last updated month?,Vaccine availability by month, \n",
    "4. Vaccine level occurences,\n",
    "5. Vaccine availability by month \n",
    "6. plotting vaccine provider locations using latitude and longitude\n",
    "7. corelation between columns"
   ]
  },
  {
   "cell_type": "code",
   "execution_count": 2,
   "id": "03594857",
   "metadata": {},
   "outputs": [
    {
     "name": "stdout",
     "output_type": "stream",
     "text": [
      "Collecting opendatasets\n",
      "  Downloading opendatasets-0.1.20-py3-none-any.whl (14 kB)\n",
      "Requirement already satisfied: click in c:\\users\\kavya raavi\\anaconda3\\lib\\site-packages (from opendatasets) (8.0.3)\n",
      "Collecting kaggle\n",
      "  Downloading kaggle-1.5.12.tar.gz (58 kB)\n",
      "Requirement already satisfied: tqdm in c:\\users\\kavya raavi\\anaconda3\\lib\\site-packages (from opendatasets) (4.62.3)\n",
      "Requirement already satisfied: colorama in c:\\users\\kavya raavi\\anaconda3\\lib\\site-packages (from click->opendatasets) (0.4.4)\n",
      "Requirement already satisfied: six>=1.10 in c:\\users\\kavya raavi\\anaconda3\\lib\\site-packages (from kaggle->opendatasets) (1.16.0)\n",
      "Note: you may need to restart the kernel to use updated packages.\n",
      "Requirement already satisfied: certifi in c:\\users\\kavya raavi\\anaconda3\\lib\\site-packages (from kaggle->opendatasets) (2021.10.8)\n",
      "Requirement already satisfied: python-dateutil in c:\\users\\kavya raavi\\anaconda3\\lib\\site-packages (from kaggle->opendatasets) (2.8.2)\n",
      "Requirement already satisfied: requests in c:\\users\\kavya raavi\\anaconda3\\lib\\site-packages (from kaggle->opendatasets) (2.26.0)\n",
      "Requirement already satisfied: python-slugify in c:\\users\\kavya raavi\\anaconda3\\lib\\site-packages (from kaggle->opendatasets) (5.0.2)\n",
      "Requirement already satisfied: urllib3 in c:\\users\\kavya raavi\\anaconda3\\lib\\site-packages (from kaggle->opendatasets) (1.26.7)\n",
      "Requirement already satisfied: text-unidecode>=1.3 in c:\\users\\kavya raavi\\anaconda3\\lib\\site-packages (from python-slugify->kaggle->opendatasets) (1.3)\n",
      "Requirement already satisfied: idna<4,>=2.5 in c:\\users\\kavya raavi\\anaconda3\\lib\\site-packages (from requests->kaggle->opendatasets) (3.2)\n",
      "Requirement already satisfied: charset-normalizer~=2.0.0 in c:\\users\\kavya raavi\\anaconda3\\lib\\site-packages (from requests->kaggle->opendatasets) (2.0.4)\n",
      "Building wheels for collected packages: kaggle\n",
      "  Building wheel for kaggle (setup.py): started\n",
      "  Building wheel for kaggle (setup.py): finished with status 'done'\n",
      "  Created wheel for kaggle: filename=kaggle-1.5.12-py3-none-any.whl size=73051 sha256=9d7f7483bf582b661ee1d43a14d1da37cbe252c1105e1cdf1db378bc1186593f\n",
      "  Stored in directory: c:\\users\\kavya raavi\\appdata\\local\\pip\\cache\\wheels\\ac\\b2\\c3\\fa4706d469b5879105991d1c8be9a3c2ef329ba9fe2ce5085e\n",
      "Successfully built kaggle\n",
      "Installing collected packages: kaggle, opendatasets\n",
      "Successfully installed kaggle-1.5.12 opendatasets-0.1.20\n"
     ]
    }
   ],
   "source": [
    "pip install opendatasets --upgrade"
   ]
  },
  {
   "cell_type": "markdown",
   "id": "ad4d7ebf",
   "metadata": {},
   "source": [
    "### Downloading Dataset"
   ]
  },
  {
   "cell_type": "code",
   "execution_count": 3,
   "id": "a0753d8c",
   "metadata": {},
   "outputs": [
    {
     "name": "stdout",
     "output_type": "stream",
     "text": [
      "Downloading https://data.cdc.gov/api/views/5jp2-pgaw/rows.csv?accessType=DOWNLOAD to .\\Vaccines.gov__COVID-19_vaccinating_provider_locations.csv\n"
     ]
    },
    {
     "name": "stderr",
     "output_type": "stream",
     "text": [
      "140787712it [00:19, 7244838.22it/s] \n"
     ]
    }
   ],
   "source": [
    "import opendatasets as od                                #importing opendatasets\n",
    "                                                         #downloading dataset from the URL\n",
    "download_url = 'https://data.cdc.gov/api/views/5jp2-pgaw/rows.csv?accessType=DOWNLOAD'\n",
    "    \n",
    "file=od.download(download_url)                                              #storing downloaded dataset to file"
   ]
  },
  {
   "cell_type": "code",
   "execution_count": 7,
   "id": "b5cd2524",
   "metadata": {},
   "outputs": [
    {
     "data": {
      "text/html": [
       "<div>\n",
       "<style scoped>\n",
       "    .dataframe tbody tr th:only-of-type {\n",
       "        vertical-align: middle;\n",
       "    }\n",
       "\n",
       "    .dataframe tbody tr th {\n",
       "        vertical-align: top;\n",
       "    }\n",
       "\n",
       "    .dataframe thead th {\n",
       "        text-align: right;\n",
       "    }\n",
       "</style>\n",
       "<table border=\"1\" class=\"dataframe\">\n",
       "  <thead>\n",
       "    <tr style=\"text-align: right;\">\n",
       "      <th></th>\n",
       "      <th>provider_location_guid</th>\n",
       "      <th>loc_store_no</th>\n",
       "      <th>loc_phone</th>\n",
       "      <th>loc_name</th>\n",
       "      <th>loc_admin_street1</th>\n",
       "      <th>loc_admin_street2</th>\n",
       "      <th>loc_admin_city</th>\n",
       "      <th>loc_admin_state</th>\n",
       "      <th>loc_admin_zip</th>\n",
       "      <th>sunday_hours</th>\n",
       "      <th>...</th>\n",
       "      <th>provider_notes</th>\n",
       "      <th>ndc</th>\n",
       "      <th>med_name</th>\n",
       "      <th>in_stock</th>\n",
       "      <th>supply_level</th>\n",
       "      <th>quantity_last_updated</th>\n",
       "      <th>latitude</th>\n",
       "      <th>longitude</th>\n",
       "      <th>Category</th>\n",
       "      <th>Unnamed Column</th>\n",
       "    </tr>\n",
       "  </thead>\n",
       "  <tbody>\n",
       "    <tr>\n",
       "      <th>0</th>\n",
       "      <td>bfdb7bb9-ce54-47c4-8be4-c2fb16a4942a</td>\n",
       "      <td>Not applicable</td>\n",
       "      <td>318-335-0973</td>\n",
       "      <td>Lake Are Home Health Agency, Inc. [[HOME HEALT...</td>\n",
       "      <td>114 North 11th Street</td>\n",
       "      <td>NaN</td>\n",
       "      <td>Oakdale</td>\n",
       "      <td>LA</td>\n",
       "      <td>71463</td>\n",
       "      <td>NaN</td>\n",
       "      <td>...</td>\n",
       "      <td>NaN</td>\n",
       "      <td>80777-0273-10</td>\n",
       "      <td>Moderna, COVID-19 Vaccine, 100mcg/0.5mL 10 dose</td>\n",
       "      <td>True</td>\n",
       "      <td>-1</td>\n",
       "      <td>2021-07-08</td>\n",
       "      <td>30.816047</td>\n",
       "      <td>-92.660661</td>\n",
       "      <td>covid</td>\n",
       "      <td>NaN</td>\n",
       "    </tr>\n",
       "    <tr>\n",
       "      <th>1</th>\n",
       "      <td>9fc4cb89-af3d-4f5d-8305-6a90a6355eb4</td>\n",
       "      <td>Not applicable</td>\n",
       "      <td>(540) 465-5001</td>\n",
       "      <td>Strasburg Pharmacy</td>\n",
       "      <td>33820 old Valley Pike,</td>\n",
       "      <td>Unit 7</td>\n",
       "      <td>STRASBURG</td>\n",
       "      <td>VA</td>\n",
       "      <td>22657</td>\n",
       "      <td>Closed</td>\n",
       "      <td>...</td>\n",
       "      <td>NaN</td>\n",
       "      <td>59267-1000-01</td>\n",
       "      <td>Pfizer-BioNTech, COVID-19 Vaccine, 30 mcg/0.3mL</td>\n",
       "      <td>False</td>\n",
       "      <td>0</td>\n",
       "      <td>2021-05-11</td>\n",
       "      <td>39.004413</td>\n",
       "      <td>-78.339107</td>\n",
       "      <td>covid</td>\n",
       "      <td>NaN</td>\n",
       "    </tr>\n",
       "    <tr>\n",
       "      <th>2</th>\n",
       "      <td>8a85b26f-6fde-4c8c-8f33-2ef3bf266950</td>\n",
       "      <td>36102</td>\n",
       "      <td>614-410-2814</td>\n",
       "      <td>The Little Clinic #36102</td>\n",
       "      <td>199 Graceland Blvd.</td>\n",
       "      <td>NaN</td>\n",
       "      <td>Columbus</td>\n",
       "      <td>OH</td>\n",
       "      <td>43214-1529</td>\n",
       "      <td>NaN</td>\n",
       "      <td>...</td>\n",
       "      <td>NaN</td>\n",
       "      <td>80777-0273-10</td>\n",
       "      <td>Moderna, COVID-19 Vaccine, 100mcg/0.5mL 10 doses</td>\n",
       "      <td>False</td>\n",
       "      <td>0</td>\n",
       "      <td>2021-07-24</td>\n",
       "      <td>40.065076</td>\n",
       "      <td>-83.025550</td>\n",
       "      <td>covid</td>\n",
       "      <td>NaN</td>\n",
       "    </tr>\n",
       "    <tr>\n",
       "      <th>3</th>\n",
       "      <td>1e788029-ad56-4425-b8a7-7bf024e83f37</td>\n",
       "      <td>Not applicable</td>\n",
       "      <td>(478) 333-6767</td>\n",
       "      <td>Benzer Pharmacy</td>\n",
       "      <td>150 S. Houston Lake Road</td>\n",
       "      <td>Suite 300</td>\n",
       "      <td>Warner Robins</td>\n",
       "      <td>GA</td>\n",
       "      <td>31088</td>\n",
       "      <td>NaN</td>\n",
       "      <td>...</td>\n",
       "      <td>NaN</td>\n",
       "      <td>59676-0580-05</td>\n",
       "      <td>Janssen, COVID-19 Vaccine, 0.5 mL</td>\n",
       "      <td>True</td>\n",
       "      <td>4</td>\n",
       "      <td>2021-08-10</td>\n",
       "      <td>32.614527</td>\n",
       "      <td>-83.679677</td>\n",
       "      <td>covid</td>\n",
       "      <td>NaN</td>\n",
       "    </tr>\n",
       "    <tr>\n",
       "      <th>4</th>\n",
       "      <td>56027f01-3610-47ce-a4a4-d20109008a56</td>\n",
       "      <td>Not applicable</td>\n",
       "      <td>NaN</td>\n",
       "      <td>HOWARD BROWN HEALTH - ROGERS PARK</td>\n",
       "      <td>6500 N CLARK ST</td>\n",
       "      <td>NaN</td>\n",
       "      <td>CHICAGO</td>\n",
       "      <td>IL</td>\n",
       "      <td>60626-4097</td>\n",
       "      <td>NaN</td>\n",
       "      <td>...</td>\n",
       "      <td>NaN</td>\n",
       "      <td>80777-0273-10</td>\n",
       "      <td>Moderna, COVID-19 Vaccine, 100mcg/0.5mL 10 dose</td>\n",
       "      <td>False</td>\n",
       "      <td>0</td>\n",
       "      <td>2021-08-11</td>\n",
       "      <td>41.999971</td>\n",
       "      <td>-87.671598</td>\n",
       "      <td>covid</td>\n",
       "      <td>NaN</td>\n",
       "    </tr>\n",
       "  </tbody>\n",
       "</table>\n",
       "<p>5 rows × 30 columns</p>\n",
       "</div>"
      ],
      "text/plain": [
       "                 provider_location_guid    loc_store_no       loc_phone  \\\n",
       "0  bfdb7bb9-ce54-47c4-8be4-c2fb16a4942a  Not applicable    318-335-0973   \n",
       "1  9fc4cb89-af3d-4f5d-8305-6a90a6355eb4  Not applicable  (540) 465-5001   \n",
       "2  8a85b26f-6fde-4c8c-8f33-2ef3bf266950           36102    614-410-2814   \n",
       "3  1e788029-ad56-4425-b8a7-7bf024e83f37  Not applicable  (478) 333-6767   \n",
       "4  56027f01-3610-47ce-a4a4-d20109008a56  Not applicable             NaN   \n",
       "\n",
       "                                            loc_name  \\\n",
       "0  Lake Are Home Health Agency, Inc. [[HOME HEALT...   \n",
       "1                                 Strasburg Pharmacy   \n",
       "2                           The Little Clinic #36102   \n",
       "3                                    Benzer Pharmacy   \n",
       "4                  HOWARD BROWN HEALTH - ROGERS PARK   \n",
       "\n",
       "          loc_admin_street1 loc_admin_street2 loc_admin_city loc_admin_state  \\\n",
       "0     114 North 11th Street               NaN        Oakdale              LA   \n",
       "1    33820 old Valley Pike,            Unit 7      STRASBURG              VA   \n",
       "2       199 Graceland Blvd.               NaN       Columbus              OH   \n",
       "3  150 S. Houston Lake Road         Suite 300  Warner Robins              GA   \n",
       "4           6500 N CLARK ST               NaN        CHICAGO              IL   \n",
       "\n",
       "  loc_admin_zip sunday_hours  ... provider_notes            ndc  \\\n",
       "0         71463          NaN  ...            NaN  80777-0273-10   \n",
       "1         22657       Closed  ...            NaN  59267-1000-01   \n",
       "2    43214-1529          NaN  ...            NaN  80777-0273-10   \n",
       "3         31088          NaN  ...            NaN  59676-0580-05   \n",
       "4    60626-4097          NaN  ...            NaN  80777-0273-10   \n",
       "\n",
       "                                           med_name in_stock supply_level  \\\n",
       "0   Moderna, COVID-19 Vaccine, 100mcg/0.5mL 10 dose     True           -1   \n",
       "1   Pfizer-BioNTech, COVID-19 Vaccine, 30 mcg/0.3mL    False            0   \n",
       "2  Moderna, COVID-19 Vaccine, 100mcg/0.5mL 10 doses    False            0   \n",
       "3                 Janssen, COVID-19 Vaccine, 0.5 mL     True            4   \n",
       "4   Moderna, COVID-19 Vaccine, 100mcg/0.5mL 10 dose    False            0   \n",
       "\n",
       "  quantity_last_updated   latitude  longitude Category Unnamed Column  \n",
       "0            2021-07-08  30.816047 -92.660661    covid            NaN  \n",
       "1            2021-05-11  39.004413 -78.339107    covid            NaN  \n",
       "2            2021-07-24  40.065076 -83.025550    covid            NaN  \n",
       "3            2021-08-10  32.614527 -83.679677    covid            NaN  \n",
       "4            2021-08-11  41.999971 -87.671598    covid            NaN  \n",
       "\n",
       "[5 rows x 30 columns]"
      ]
     },
     "execution_count": 7,
     "metadata": {},
     "output_type": "execute_result"
    }
   ],
   "source": [
    "import pandas as pd                                   #importing pandas\n",
    "df=pd.read_csv(r'Vaccines.gov__COVID-19_vaccinating_provider_locations.csv')  #reading downloaded dataset using dataframes as df\n",
    "df.head()           #displays top5 values from dataset"
   ]
  },
  {
   "cell_type": "markdown",
   "id": "5eb8851e",
   "metadata": {},
   "source": [
    "## DATA CLEANING"
   ]
  },
  {
   "cell_type": "code",
   "execution_count": 8,
   "id": "7844c930",
   "metadata": {},
   "outputs": [
    {
     "data": {
      "text/plain": [
       "provider_location_guid         0\n",
       "loc_store_no                   0\n",
       "loc_phone                   1861\n",
       "loc_name                       0\n",
       "loc_admin_street1             15\n",
       "loc_admin_street2         204972\n",
       "loc_admin_city                 0\n",
       "loc_admin_state                0\n",
       "loc_admin_zip                  0\n",
       "sunday_hours               70731\n",
       "monday_hours               41578\n",
       "tuesday_hours              41064\n",
       "wednesday_hours            40980\n",
       "thursday_hours             41114\n",
       "friday_hours               41861\n",
       "saturday_hours             56956\n",
       "web_address                44393\n",
       "pre_screen                 62085\n",
       "insurance_accepted         50591\n",
       "walkins_accepted           39797\n",
       "provider_notes            111393\n",
       "ndc                            0\n",
       "med_name                       0\n",
       "in_stock                       0\n",
       "supply_level                   0\n",
       "quantity_last_updated          0\n",
       "latitude                      40\n",
       "longitude                     40\n",
       "Category                       0\n",
       "Unnamed Column            280703\n",
       "dtype: int64"
      ]
     },
     "execution_count": 8,
     "metadata": {},
     "output_type": "execute_result"
    }
   ],
   "source": [
    "Nullcheck = df.isnull().sum()    #checking how many null values are present in dataset by column\n",
    "Nullcheck"
   ]
  },
  {
   "cell_type": "code",
   "execution_count": 9,
   "id": "cdfedda5",
   "metadata": {},
   "outputs": [],
   "source": [
    "#Filling the missing values in dataset with 0.               #filling out missing values in columns\n",
    "df.fillna({'loc_phone':'0', 'Unnamed Column':'0'},inplace=True)"
   ]
  },
  {
   "cell_type": "code",
   "execution_count": 10,
   "id": "e0d4845e",
   "metadata": {},
   "outputs": [],
   "source": [
    "df1=df.drop_duplicates(keep='first')   #removing duplicates from the dataset"
   ]
  },
  {
   "cell_type": "code",
   "execution_count": 11,
   "id": "ca5811a9",
   "metadata": {},
   "outputs": [
    {
     "name": "stdout",
     "output_type": "stream",
     "text": [
      "(280703, 30)\n",
      "(280703, 30)\n"
     ]
    }
   ],
   "source": [
    "print(df.shape) #After checking for duplicates           #printing the shape of datasets which gives number of columns and rows\n",
    "print(df1.shape) #Before checking for duplicates     \n",
    "#so here columns and rows were same before and after. So there are no duplicate values"
   ]
  },
  {
   "cell_type": "code",
   "execution_count": 12,
   "id": "cc1188ab",
   "metadata": {},
   "outputs": [
    {
     "name": "stdout",
     "output_type": "stream",
     "text": [
      "provider_location_guid         0\n",
      "loc_store_no                   0\n",
      "loc_phone                      0\n",
      "loc_name                       0\n",
      "loc_admin_street1             15\n",
      "loc_admin_street2         204972\n",
      "loc_admin_city                 0\n",
      "loc_admin_state                0\n",
      "loc_admin_zip                  0\n",
      "sunday_hours               70731\n",
      "monday_hours               41578\n",
      "tuesday_hours              41064\n",
      "wednesday_hours            40980\n",
      "thursday_hours             41114\n",
      "friday_hours               41861\n",
      "saturday_hours             56956\n",
      "web_address                44393\n",
      "pre_screen                 62085\n",
      "insurance_accepted         50591\n",
      "walkins_accepted           39797\n",
      "provider_notes            111393\n",
      "ndc                            0\n",
      "med_name                       0\n",
      "in_stock                       0\n",
      "supply_level                   0\n",
      "quantity_last_updated          0\n",
      "latitude                      40\n",
      "longitude                     40\n",
      "Category                       0\n",
      "Unnamed Column                 0\n",
      "dtype: int64\n"
     ]
    }
   ],
   "source": [
    "print(df1.isnull().sum())    "
   ]
  },
  {
   "cell_type": "code",
   "execution_count": 13,
   "id": "f4d45986",
   "metadata": {},
   "outputs": [],
   "source": [
    "#dropping unwanted columns\n",
    "drop_cols=['Unnamed Column','provider_notes','loc_admin_street2','web_address','pre_screen']\n",
    "df=df.drop(drop_cols,axis=1)"
   ]
  },
  {
   "cell_type": "code",
   "execution_count": 14,
   "id": "5497af01",
   "metadata": {},
   "outputs": [
    {
     "name": "stdout",
     "output_type": "stream",
     "text": [
      "provider_location_guid        0\n",
      "loc_store_no                  0\n",
      "loc_phone                     0\n",
      "loc_name                      0\n",
      "loc_admin_street1            15\n",
      "loc_admin_city                0\n",
      "loc_admin_state               0\n",
      "loc_admin_zip                 0\n",
      "sunday_hours              70731\n",
      "monday_hours              41578\n",
      "tuesday_hours             41064\n",
      "wednesday_hours           40980\n",
      "thursday_hours            41114\n",
      "friday_hours              41861\n",
      "saturday_hours            56956\n",
      "insurance_accepted        50591\n",
      "walkins_accepted          39797\n",
      "ndc                           0\n",
      "med_name                      0\n",
      "in_stock                      0\n",
      "supply_level                  0\n",
      "quantity_last_updated         0\n",
      "latitude                     40\n",
      "longitude                    40\n",
      "Category                      0\n",
      "dtype: int64\n"
     ]
    }
   ],
   "source": [
    "print(df.isnull().sum())"
   ]
  },
  {
   "cell_type": "code",
   "execution_count": 15,
   "id": "7564464f",
   "metadata": {},
   "outputs": [],
   "source": [
    "df.dropna(axis=0,inplace=True)    #dropping values which have null values"
   ]
  },
  {
   "cell_type": "code",
   "execution_count": 16,
   "id": "508f440f",
   "metadata": {},
   "outputs": [
    {
     "name": "stdout",
     "output_type": "stream",
     "text": [
      "provider_location_guid    0\n",
      "loc_store_no              0\n",
      "loc_phone                 0\n",
      "loc_name                  0\n",
      "loc_admin_street1         0\n",
      "loc_admin_city            0\n",
      "loc_admin_state           0\n",
      "loc_admin_zip             0\n",
      "sunday_hours              0\n",
      "monday_hours              0\n",
      "tuesday_hours             0\n",
      "wednesday_hours           0\n",
      "thursday_hours            0\n",
      "friday_hours              0\n",
      "saturday_hours            0\n",
      "insurance_accepted        0\n",
      "walkins_accepted          0\n",
      "ndc                       0\n",
      "med_name                  0\n",
      "in_stock                  0\n",
      "supply_level              0\n",
      "quantity_last_updated     0\n",
      "latitude                  0\n",
      "longitude                 0\n",
      "Category                  0\n",
      "dtype: int64\n"
     ]
    }
   ],
   "source": [
    "print(df.isnull().sum())     #checking for any null values"
   ]
  },
  {
   "cell_type": "code",
   "execution_count": 17,
   "id": "ec30a8b7",
   "metadata": {},
   "outputs": [],
   "source": [
    "df1=df.drop_duplicates(keep='first')   #dropping duplicates again to make sure they are none"
   ]
  },
  {
   "cell_type": "code",
   "execution_count": 18,
   "id": "5d24b575",
   "metadata": {},
   "outputs": [
    {
     "name": "stdout",
     "output_type": "stream",
     "text": [
      "(203388, 25)\n",
      "(203388, 25)\n"
     ]
    }
   ],
   "source": [
    "print(df.shape) #After checking for duplicates\n",
    "print(df1.shape) #Before checking for duplicates"
   ]
  },
  {
   "cell_type": "markdown",
   "id": "178dc257",
   "metadata": {},
   "source": [
    "### Exploratory Data Analysis"
   ]
  },
  {
   "cell_type": "code",
   "execution_count": 19,
   "id": "123aec60",
   "metadata": {},
   "outputs": [
    {
     "data": {
      "text/html": [
       "<div>\n",
       "<style scoped>\n",
       "    .dataframe tbody tr th:only-of-type {\n",
       "        vertical-align: middle;\n",
       "    }\n",
       "\n",
       "    .dataframe tbody tr th {\n",
       "        vertical-align: top;\n",
       "    }\n",
       "\n",
       "    .dataframe thead th {\n",
       "        text-align: right;\n",
       "    }\n",
       "</style>\n",
       "<table border=\"1\" class=\"dataframe\">\n",
       "  <thead>\n",
       "    <tr style=\"text-align: right;\">\n",
       "      <th></th>\n",
       "      <th>in_stock</th>\n",
       "      <th>supply_level</th>\n",
       "      <th>latitude</th>\n",
       "      <th>longitude</th>\n",
       "    </tr>\n",
       "  </thead>\n",
       "  <tbody>\n",
       "    <tr>\n",
       "      <th>in_stock</th>\n",
       "      <td>1.000000</td>\n",
       "      <td>0.450966</td>\n",
       "      <td>0.039105</td>\n",
       "      <td>-0.029545</td>\n",
       "    </tr>\n",
       "    <tr>\n",
       "      <th>supply_level</th>\n",
       "      <td>0.450966</td>\n",
       "      <td>1.000000</td>\n",
       "      <td>-0.065508</td>\n",
       "      <td>0.014003</td>\n",
       "    </tr>\n",
       "    <tr>\n",
       "      <th>latitude</th>\n",
       "      <td>0.039105</td>\n",
       "      <td>-0.065508</td>\n",
       "      <td>1.000000</td>\n",
       "      <td>0.027928</td>\n",
       "    </tr>\n",
       "    <tr>\n",
       "      <th>longitude</th>\n",
       "      <td>-0.029545</td>\n",
       "      <td>0.014003</td>\n",
       "      <td>0.027928</td>\n",
       "      <td>1.000000</td>\n",
       "    </tr>\n",
       "  </tbody>\n",
       "</table>\n",
       "</div>"
      ],
      "text/plain": [
       "              in_stock  supply_level  latitude  longitude\n",
       "in_stock      1.000000      0.450966  0.039105  -0.029545\n",
       "supply_level  0.450966      1.000000 -0.065508   0.014003\n",
       "latitude      0.039105     -0.065508  1.000000   0.027928\n",
       "longitude    -0.029545      0.014003  0.027928   1.000000"
      ]
     },
     "execution_count": 19,
     "metadata": {},
     "output_type": "execute_result"
    },
    {
     "data": {
      "image/png": "[encoded data removed]",
      "text/plain": [
       "<Figure size 504x504 with 2 Axes>"
      ]
     },
     "metadata": {
      "needs_background": "light"
     },
     "output_type": "display_data"
    }
   ],
   "source": [
    "#this indicates supply level and vaccines that are in stock by longitude and latitude.\n",
    "import matplotlib.pyplot as plt  \n",
    "import seaborn as sns   \n",
    "plt.figure(figsize=(7,7))\n",
    "cor= df.corr(method='pearson', min_periods=2)\n",
    "sns.heatmap(cor,annot=True)\n",
    "sns.color_palette(\"bright\")\n",
    "cor\n",
    "#here we are getting corelation between columns, negative value indicates they are inversly proportional and positive value\n",
    "#indicates they are proportional\n",
    "#strongest corelation here is supplylevel and instock."
   ]
  },
  {
   "cell_type": "code",
   "execution_count": 20,
   "id": "b1b21533",
   "metadata": {},
   "outputs": [
    {
     "data": {
      "text/plain": [
       "<AxesSubplot:xlabel='in_stock', ylabel='insurance_accepted'>"
      ]
     },
     "execution_count": 20,
     "metadata": {},
     "output_type": "execute_result"
    },
    {
     "data": {
      "image/png": "[encoded data removed]",
      "text/plain": [
       "<Figure size 432x432 with 1 Axes>"
      ]
     },
     "metadata": {
      "needs_background": "light"
     },
     "output_type": "display_data"
    }
   ],
   "source": [
    "#Question: How many vaccines instock accepts insurance\n",
    "#Answer: Around 95% of vaccines that are instock accepts insurance.\n",
    "import seaborn as sns\n",
    "import matplotlib.pyplot as plt\n",
    "a4_dims = (6,6)\n",
    "fig, ax = plt.subplots(figsize=a4_dims)\n",
    "sns.barplot(y=\"insurance_accepted\", x=\"in_stock\",data=df)\n",
    "\n",
    "#reference: https://seaborn.pydata.org/"
   ]
  },
  {
   "cell_type": "code",
   "execution_count": 21,
   "id": "af255ca6",
   "metadata": {},
   "outputs": [
    {
     "data": {
      "text/plain": [
       "<AxesSubplot:xlabel='loc_admin_state', ylabel='insurance_accepted'>"
      ]
     },
     "execution_count": 21,
     "metadata": {},
     "output_type": "execute_result"
    },
    {
     "data": {
      "image/png": "[encoded data removed]",
      "text/plain": [
       "<Figure size 1224x1224 with 1 Axes>"
      ]
     },
     "metadata": {
      "needs_background": "light"
     },
     "output_type": "display_data"
    }
   ],
   "source": [
    "#Question: Which state has low no. of insurance acceptance(states) for vaccine\n",
    "#lowa has low insurance acceptance places\n",
    "import seaborn as sns\n",
    "import matplotlib.pyplot as plt\n",
    "a4_dims = (17,17)\n",
    "fig, ax = plt.subplots(figsize=a4_dims)\n",
    "sns.barplot(y=\"insurance_accepted\", x=\"loc_admin_state\",data=df)"
   ]
  },
  {
   "cell_type": "markdown",
   "id": "a49160d2",
   "metadata": {},
   "source": [
    "#Extracting the date from timestamp and plotting vaccine quantity by last updated month"
   ]
  },
  {
   "cell_type": "code",
   "execution_count": 22,
   "id": "909f3993",
   "metadata": {},
   "outputs": [
    {
     "data": {
      "text/plain": [
       "1        2021-05-11\n",
       "6        2021-04-30\n",
       "7        2021-06-07\n",
       "17       2021-07-16\n",
       "21       2021-08-27\n",
       "            ...    \n",
       "280695   2022-01-07\n",
       "280696   2022-01-07\n",
       "280698   2022-01-07\n",
       "280699   2022-01-06\n",
       "280702   2022-01-06\n",
       "Name: quantity_last_updated, Length: 203388, dtype: datetime64[ns]"
      ]
     },
     "execution_count": 22,
     "metadata": {},
     "output_type": "execute_result"
    }
   ],
   "source": [
    "dates = pd.to_datetime(df['quantity_last_updated'], format='%Y/%m/%d')  #extracting dates from timestamp\n",
    "dates"
   ]
  },
  {
   "cell_type": "code",
   "execution_count": 23,
   "id": "eb87b7c7",
   "metadata": {},
   "outputs": [
    {
     "data": {
      "text/plain": [
       "1         5\n",
       "6         4\n",
       "7         6\n",
       "17        7\n",
       "21        8\n",
       "         ..\n",
       "280695    1\n",
       "280696    1\n",
       "280698    1\n",
       "280699    1\n",
       "280702    1\n",
       "Name: quantity_last_updated, Length: 203388, dtype: int64"
      ]
     },
     "execution_count": 23,
     "metadata": {},
     "output_type": "execute_result"
    }
   ],
   "source": [
    "dates.dt.month   #extracting month from date"
   ]
  },
  {
   "cell_type": "code",
   "execution_count": 24,
   "id": "2463d0b4",
   "metadata": {},
   "outputs": [
    {
     "data": {
      "text/plain": [
       "<AxesSubplot:xlabel='quantity_last_updated', ylabel='Count'>"
      ]
     },
     "execution_count": 24,
     "metadata": {},
     "output_type": "execute_result"
    },
    {
     "data": {
      "image/png": "[encoded data removed]",
      "text/plain": [
       "<Figure size 432x288 with 1 Axes>"
      ]
     },
     "metadata": {
      "needs_background": "light"
     },
     "output_type": "display_data"
    }
   ],
   "source": [
    "#this represents vaccine quantity last updated month\n",
    "#Question: In which month of the year, vaccine quantity is updated.\n",
    "sns.histplot(dates.dt.month,bins=30,color = \"seagreen\")\n",
    "#Answer: Mostly vaccine updation accoured in month of october."
   ]
  },
  {
   "cell_type": "code",
   "execution_count": 25,
   "id": "11b692be",
   "metadata": {},
   "outputs": [
    {
     "data": {
      "text/plain": [
       "Text(0.5, 1.0, 'Vaccine name and supply level')"
      ]
     },
     "execution_count": 25,
     "metadata": {},
     "output_type": "execute_result"
    },
    {
     "data": {
      "image/png": "[encoded data removed]",
      "text/plain": [
       "<Figure size 432x288 with 1 Axes>"
      ]
     },
     "metadata": {
      "needs_background": "light"
     },
     "output_type": "display_data"
    }
   ],
   "source": [
    "#Question : Vaccine availability by month\n",
    "\n",
    "plt.scatter(df['med_name'], dates.dt.month, c='yellow')\n",
    "plt.tick_params(axis='x', labelrotation = 90)\n",
    "plt.xlabel('Vaccine name')\n",
    "plt.ylabel('Month available')\n",
    "plt.title('Vaccine name and supply level')\n",
    "\n",
    "#Answer : Vaccine availability for moderna 10doses is available throughout the year."
   ]
  },
  {
   "cell_type": "code",
   "execution_count": 26,
   "id": "37020875",
   "metadata": {},
   "outputs": [
    {
     "data": {
      "text/plain": [
       "Text(0.5, 1.0, 'Histogram for Vaccine supply level')"
      ]
     },
     "execution_count": 26,
     "metadata": {},
     "output_type": "execute_result"
    },
    {
     "data": {
      "image/png": "[encoded data removed]",
      "text/plain": [
       "<Figure size 432x288 with 1 Axes>"
      ]
     },
     "metadata": {
      "needs_background": "light"
     },
     "output_type": "display_data"
    }
   ],
   "source": [
    "#Vaccine level occurences\n",
    "plt.hist(df['supply_level'], facecolor='m',edgecolor='blue')\n",
    "plt.xlabel('Supply level of vaccines')\n",
    "plt.ylabel('Occurance of Values')\n",
    "plt.title('Histogram for Vaccine supply level')\n",
    "#4level means here vaccines availability is more\n",
    "#3 level indicates vaccines availability is little less\n",
    "#2 level imdicates vaccines availability is less\n",
    "#1 level indicates vaccines availability is very less\n",
    "#0 level indicates vaccines availability is zero\n",
    "#-1 indicates that there is requirement but no vaccines"
   ]
  },
  {
   "cell_type": "markdown",
   "id": "dec628de",
   "metadata": {},
   "source": [
    "#4th level means here vaccines availability is more\n",
    "#3rd level indicates vaccines availability is little less\n",
    "#2nd level imdicates vaccines availability is less\n",
    "#1st level indicates vaccines availability is very less\n",
    "#0th level indicates vaccines availability is zero\n",
    "#-1  level indicates that there is requirement but no vaccines"
   ]
  },
  {
   "cell_type": "code",
   "execution_count": 27,
   "id": "61ed8fc8",
   "metadata": {},
   "outputs": [
    {
     "data": {
      "text/plain": [
       "Text(0.5, 1.0, 'Month and supply level')"
      ]
     },
     "execution_count": 27,
     "metadata": {},
     "output_type": "execute_result"
    },
    {
     "data": {
      "image/png": "[encoded data removed]",
      "text/plain": [
       "<Figure size 432x288 with 1 Axes>"
      ]
     },
     "metadata": {
      "needs_background": "light"
     },
     "output_type": "display_data"
    }
   ],
   "source": [
    "#Question : Vaccine availability by month\n",
    "\n",
    "plt.scatter(df['supply_level'], dates.dt.month, c='green')\n",
    "plt.tick_params(axis='x', labelrotation = 90)\n",
    "plt.xlabel('supply_level')\n",
    "plt.ylabel('Month available')\n",
    "plt.title('Month and supply level')\n",
    "\n",
    "#Answer : Vaccine availability for moderna 10doses is available throughout.\n",
    "# 4- sufficient "
   ]
  },
  {
   "cell_type": "code",
   "execution_count": 28,
   "id": "1c31e45f",
   "metadata": {},
   "outputs": [
    {
     "data": {
      "text/plain": [
       "1         39.004413\n",
       "6         33.408345\n",
       "7         36.287200\n",
       "17        41.768401\n",
       "21        26.138697\n",
       "            ...    \n",
       "280695    40.861296\n",
       "280696    25.763943\n",
       "280698    39.411016\n",
       "280699    41.667150\n",
       "280702    40.939387\n",
       "Name: latitude, Length: 203388, dtype: float64"
      ]
     },
     "execution_count": 28,
     "metadata": {},
     "output_type": "execute_result"
    }
   ],
   "source": [
    "df.latitude       #getting latitude values from dataset"
   ]
  },
  {
   "cell_type": "code",
   "execution_count": 29,
   "id": "fa0a124e",
   "metadata": {},
   "outputs": [
    {
     "data": {
      "text/plain": [
       "1        -78.339107\n",
       "6        -86.631212\n",
       "7        -97.285404\n",
       "17       -87.653412\n",
       "21       -97.627494\n",
       "            ...    \n",
       "280695   -73.987881\n",
       "280696   -80.263930\n",
       "280698   -76.948750\n",
       "280699   -72.805849\n",
       "280702   -74.118637\n",
       "Name: longitude, Length: 203388, dtype: float64"
      ]
     },
     "execution_count": 29,
     "metadata": {},
     "output_type": "execute_result"
    }
   ],
   "source": [
    "df.longitude   #getting longitude values from dataset"
   ]
  },
  {
   "cell_type": "markdown",
   "id": "810272ef",
   "metadata": {},
   "source": [
    "#plotting vaccine provider locations by latitude and longitude"
   ]
  },
  {
   "cell_type": "code",
   "execution_count": 30,
   "id": "483132c1",
   "metadata": {},
   "outputs": [],
   "source": [
    "sample_df = df.sample(int(0.1 * len(df)))         "
   ]
  },
  {
   "cell_type": "code",
   "execution_count": 31,
   "id": "82cf557f",
   "metadata": {},
   "outputs": [
    {
     "data": {
      "text/plain": [
       "<AxesSubplot:xlabel='longitude', ylabel='latitude'>"
      ]
     },
     "execution_count": 31,
     "metadata": {},
     "output_type": "execute_result"
    },
    {
     "data": {
      "image/png": "[encoded data removed]",
      "text/plain": [
       "<Figure size 432x288 with 1 Axes>"
      ]
     },
     "metadata": {
      "needs_background": "light"
     },
     "output_type": "display_data"
    }
   ],
   "source": [
    "sns.scatterplot(x=sample_df.longitude, y=sample_df.latitude, size=0.001)      \n",
    "#plotting locations using latitude and longitude"
   ]
  },
  {
   "cell_type": "markdown",
   "id": "db51f6da",
   "metadata": {},
   "source": [
    "#as the above plotting is not that clearly understandable. used heat map to plot the same"
   ]
  },
  {
   "cell_type": "code",
   "execution_count": 34,
   "id": "cdb5cbe5",
   "metadata": {},
   "outputs": [
    {
     "ename": "ModuleNotFoundError",
     "evalue": "No module named 'folium'",
     "output_type": "error",
     "traceback": [
      "\u001b[1;31m---------------------------------------------------------------------------\u001b[0m",
      "\u001b[1;31mModuleNotFoundError\u001b[0m                       Traceback (most recent call last)",
      "\u001b[1;32mC:\\Users\\KAVYAR~1\\AppData\\Local\\Temp/ipykernel_9504/3632718637.py\u001b[0m in \u001b[0;36m<module>\u001b[1;34m\u001b[0m\n\u001b[1;32m----> 1\u001b[1;33m \u001b[1;32mimport\u001b[0m \u001b[0mfolium\u001b[0m                    \u001b[1;31m#importing folium\u001b[0m\u001b[1;33m\u001b[0m\u001b[1;33m\u001b[0m\u001b[0m\n\u001b[0m\u001b[0;32m      2\u001b[0m \u001b[0mlat\u001b[0m\u001b[1;33m,\u001b[0m\u001b[0mlon\u001b[0m\u001b[1;33m=\u001b[0m \u001b[0mdf\u001b[0m\u001b[1;33m.\u001b[0m\u001b[0mlatitude\u001b[0m\u001b[1;33m[\u001b[0m\u001b[1;36m0\u001b[0m\u001b[1;33m]\u001b[0m\u001b[1;33m,\u001b[0m \u001b[0mdf\u001b[0m\u001b[1;33m.\u001b[0m\u001b[0mlongitude\u001b[0m\u001b[1;33m[\u001b[0m\u001b[1;36m0\u001b[0m\u001b[1;33m]\u001b[0m\u001b[1;33m\u001b[0m\u001b[1;33m\u001b[0m\u001b[0m\n\u001b[0;32m      3\u001b[0m \u001b[0mlat\u001b[0m\u001b[1;33m,\u001b[0m\u001b[0mlon\u001b[0m\u001b[1;33m\u001b[0m\u001b[1;33m\u001b[0m\u001b[0m\n",
      "\u001b[1;31mModuleNotFoundError\u001b[0m: No module named 'folium'"
     ]
    }
   ],
   "source": [
    "import folium                    #importing folium \n",
    "lat,lon= df.latitude[0], df.longitude[0]\n",
    "lat,lon"
   ]
  },
  {
   "cell_type": "code",
   "execution_count": 33,
   "id": "11eb52e2",
   "metadata": {},
   "outputs": [
    {
     "name": "stdout",
     "output_type": "stream",
     "text": [
      "25026     44.217042\n",
      "99938     26.095685\n",
      "230626    40.625418\n",
      "57998     32.751129\n",
      "79236     39.694915\n",
      "            ...    \n",
      "112310    42.959091\n",
      "109955    39.290274\n",
      "232275    40.153670\n",
      "24586     35.939024\n",
      "103374    30.439147\n",
      "Name: latitude, Length: 100, dtype: float64\n",
      "25026     -72.564940\n",
      "99938     -97.165137\n",
      "230626    -73.962017\n",
      "57998    -117.210103\n",
      "79236    -104.788742\n",
      "             ...    \n",
      "112310    -78.859220\n",
      "109955    -77.201892\n",
      "232275    -74.973937\n",
      "24586     -91.547007\n",
      "103374    -88.898192\n",
      "Name: longitude, Length: 100, dtype: float64\n"
     ]
    }
   ],
   "source": [
    "for x in df[['latitude', 'longitude']].sample(100).iteritems(): #iterating through all the longitude and latitude values to plot\n",
    "    print(x[1])"
   ]
  },
  {
   "cell_type": "code",
   "execution_count": 34,
   "id": "66496547",
   "metadata": {},
   "outputs": [
    {
     "data": {
      "text/plain": [
       "<zip at 0x20a32761cc0>"
      ]
     },
     "execution_count": 34,
     "metadata": {},
     "output_type": "execute_result"
    }
   ],
   "source": [
    "zip(list(df.latitude), list(df.longitude))   "
   ]
  },
  {
   "cell_type": "code",
   "execution_count": 35,
   "id": "587cf444",
   "metadata": {},
   "outputs": [],
   "source": [
    "from folium.plugins import HeatMap   #importing heat map from folium"
   ]
  },
  {
   "cell_type": "code",
   "execution_count": 36,
   "id": "9724a1ea",
   "metadata": {},
   "outputs": [],
   "source": [
    "sample_df = df.sample(int(0.001 * len(df)))\n",
    "lat_lon_pairs = list(zip(list(sample_df.latitude), list(sample_df.longitude)))  \n",
    "#creating pairs of longitude and longitude and adding them to map"
   ]
  },
  {
   "cell_type": "code",
   "execution_count": 37,
   "id": "ff5d4dcd",
   "metadata": {},
   "outputs": [
    {
     "data": {
      "text/html": [
       "<div style=\"width:100%;\"><div style=\"position:relative;width:100%;height:0;padding-bottom:60%;\"><span style=\"color:#565656\">Make this Notebook Trusted to load map: File -> Trust Notebook</span><iframe src=\"about:blank\" style=\"position:absolute;width:100%;height:100%;left:0;top:0;border:none !important;\" data-html=%3C%21DOCTYPE%20html%3E%0A%3Chead%3E%20%20%20%20%0A%20%20%20%20%3Cmeta%20http-equiv%3D%22content-type%22%20content%3D%22text/html%3B%20charset%3DUTF-8%22%20/%3E%0A%20%20%20%20%0A%20%20%20%20%20%20%20%20%3Cscript%3E%0A%20%20%20%20%20%20%20%20%20%20%20%20L_NO_TOUCH%20%3D%20false%3B%0A%20%20%20%20%20%20%20%20%20%20%20%20L_DISABLE_3D%20%3D%20false%3B%0A%20%20%20%20%20%20%20%20%3C/script%3E%0A%20%20%20%20%0A%20%20%20%20%3Cstyle%3Ehtml%2C%20body%20%7Bwidth%3A%20100%25%3Bheight%3A%20100%25%3Bmargin%3A%200%3Bpadding%3A%200%3B%7D%3C/style%3E%0A%20%20%20%20%3Cstyle%3E%23map%20%7Bposition%3Aabsolute%3Btop%3A0%3Bbottom%3A0%3Bright%3A0%3Bleft%3A0%3B%7D%3C/style%3E%0A%20%20%20%20%3Cscript%20src%3D%22https%3A//cdn.jsdelivr.net/npm/leaflet%401.6.0/dist/leaflet.js%22%3E%3C/script%3E%0A%20%20%20%20%3Cscript%20src%3D%22https%3A//code.jquery.com/jquery-1.12.4.min.js%22%3E%3C/script%3E%0A%20%20%20%20%3Cscript%20src%3D%22https%3A//maxcdn.bootstrapcdn.com/bootstrap/3.2.0/js/bootstrap.min.js%22%3E%3C/script%3E%0A%20%20%20%20%3Cscript%20src%3D%22https%3A//cdnjs.cloudflare.com/ajax/libs/Leaflet.awesome-markers/2.0.2/leaflet.awesome-markers.js%22%3E%3C/script%3E%0A%20%20%20%20%3Clink%20rel%3D%22stylesheet%22%20href%3D%22https%3A//cdn.jsdelivr.net/npm/leaflet%401.6.0/dist/leaflet.css%22/%3E%0A%20%20%20%20%3Clink%20rel%3D%22stylesheet%22%20href%3D%22https%3A//maxcdn.bootstrapcdn.com/bootstrap/3.2.0/css/bootstrap.min.css%22/%3E%0A%20%20%20%20%3Clink%20rel%3D%22stylesheet%22%20href%3D%22https%3A//maxcdn.bootstrapcdn.com/bootstrap/3.2.0/css/bootstrap-theme.min.css%22/%3E%0A%20%20%20%20%3Clink%20rel%3D%22stylesheet%22%20href%3D%22https%3A//maxcdn.bootstrapcdn.com/font-awesome/4.6.3/css/font-awesome.min.css%22/%3E%0A%20%20%20%20%3Clink%20rel%3D%22stylesheet%22%20href%3D%22https%3A//cdnjs.cloudflare.com/ajax/libs/Leaflet.awesome-markers/2.0.2/leaflet.awesome-markers.css%22/%3E%0A%20%20%20%20%3Clink%20rel%3D%22stylesheet%22%20href%3D%22https%3A//cdn.jsdelivr.net/gh/python-visualization/folium/folium/templates/leaflet.awesome.rotate.min.css%22/%3E%0A%20%20%20%20%0A%20%20%20%20%20%20%20%20%20%20%20%20%3Cmeta%20name%3D%22viewport%22%20content%3D%22width%3Ddevice-width%2C%0A%20%20%20%20%20%20%20%20%20%20%20%20%20%20%20%20initial-scale%3D1.0%2C%20maximum-scale%3D1.0%2C%20user-scalable%3Dno%22%20/%3E%0A%20%20%20%20%20%20%20%20%20%20%20%20%3Cstyle%3E%0A%20%20%20%20%20%20%20%20%20%20%20%20%20%20%20%20%23map_5d207d565c354b2194c22d21820980fe%20%7B%0A%20%20%20%20%20%20%20%20%20%20%20%20%20%20%20%20%20%20%20%20position%3A%20relative%3B%0A%20%20%20%20%20%20%20%20%20%20%20%20%20%20%20%20%20%20%20%20width%3A%20100.0%25%3B%0A%20%20%20%20%20%20%20%20%20%20%20%20%20%20%20%20%20%20%20%20height%3A%20100.0%25%3B%0A%20%20%20%20%20%20%20%20%20%20%20%20%20%20%20%20%20%20%20%20left%3A%200.0%25%3B%0A%20%20%20%20%20%20%20%20%20%20%20%20%20%20%20%20%20%20%20%20top%3A%200.0%25%3B%0A%20%20%20%20%20%20%20%20%20%20%20%20%20%20%20%20%7D%0A%20%20%20%20%20%20%20%20%20%20%20%20%3C/style%3E%0A%20%20%20%20%20%20%20%20%0A%20%20%20%20%3Cscript%20src%3D%22https%3A//cdn.jsdelivr.net/gh/python-visualization/folium%40master/folium/templates/leaflet_heat.min.js%22%3E%3C/script%3E%0A%3C/head%3E%0A%3Cbody%3E%20%20%20%20%0A%20%20%20%20%0A%20%20%20%20%20%20%20%20%20%20%20%20%3Cdiv%20class%3D%22folium-map%22%20id%3D%22map_5d207d565c354b2194c22d21820980fe%22%20%3E%3C/div%3E%0A%20%20%20%20%20%20%20%20%0A%3C/body%3E%0A%3Cscript%3E%20%20%20%20%0A%20%20%20%20%0A%20%20%20%20%20%20%20%20%20%20%20%20var%20map_5d207d565c354b2194c22d21820980fe%20%3D%20L.map%28%0A%20%20%20%20%20%20%20%20%20%20%20%20%20%20%20%20%22map_5d207d565c354b2194c22d21820980fe%22%2C%0A%20%20%20%20%20%20%20%20%20%20%20%20%20%20%20%20%7B%0A%20%20%20%20%20%20%20%20%20%20%20%20%20%20%20%20%20%20%20%20center%3A%20%5B0%2C%200%5D%2C%0A%20%20%20%20%20%20%20%20%20%20%20%20%20%20%20%20%20%20%20%20crs%3A%20L.CRS.EPSG3857%2C%0A%20%20%20%20%20%20%20%20%20%20%20%20%20%20%20%20%20%20%20%20zoom%3A%201%2C%0A%20%20%20%20%20%20%20%20%20%20%20%20%20%20%20%20%20%20%20%20zoomControl%3A%20true%2C%0A%20%20%20%20%20%20%20%20%20%20%20%20%20%20%20%20%20%20%20%20preferCanvas%3A%20false%2C%0A%20%20%20%20%20%20%20%20%20%20%20%20%20%20%20%20%7D%0A%20%20%20%20%20%20%20%20%20%20%20%20%29%3B%0A%0A%20%20%20%20%20%20%20%20%20%20%20%20%0A%0A%20%20%20%20%20%20%20%20%0A%20%20%20%20%0A%20%20%20%20%20%20%20%20%20%20%20%20var%20tile_layer_1ec0ed40cdf04042a2a32c116adee55e%20%3D%20L.tileLayer%28%0A%20%20%20%20%20%20%20%20%20%20%20%20%20%20%20%20%22https%3A//%7Bs%7D.tile.openstreetmap.org/%7Bz%7D/%7Bx%7D/%7By%7D.png%22%2C%0A%20%20%20%20%20%20%20%20%20%20%20%20%20%20%20%20%7B%22attribution%22%3A%20%22Data%20by%20%5Cu0026copy%3B%20%5Cu003ca%20href%3D%5C%22http%3A//openstreetmap.org%5C%22%5Cu003eOpenStreetMap%5Cu003c/a%5Cu003e%2C%20under%20%5Cu003ca%20href%3D%5C%22http%3A//www.openstreetmap.org/copyright%5C%22%5Cu003eODbL%5Cu003c/a%5Cu003e.%22%2C%20%22detectRetina%22%3A%20false%2C%20%22maxNativeZoom%22%3A%2018%2C%20%22maxZoom%22%3A%2018%2C%20%22minZoom%22%3A%200%2C%20%22noWrap%22%3A%20false%2C%20%22opacity%22%3A%201%2C%20%22subdomains%22%3A%20%22abc%22%2C%20%22tms%22%3A%20false%7D%0A%20%20%20%20%20%20%20%20%20%20%20%20%29.addTo%28map_5d207d565c354b2194c22d21820980fe%29%3B%0A%20%20%20%20%20%20%20%20%0A%20%20%20%20%0A%20%20%20%20%20%20%20%20%20%20%20%20var%20heat_map_0b70b2be17244708819f636a872a63dc%20%3D%20L.heatLayer%28%0A%20%20%20%20%20%20%20%20%20%20%20%20%20%20%20%20%5B%5B41.391662%2C%20-75.673832%5D%2C%20%5B35.226076%2C%20-97.420815%5D%2C%20%5B37.210137%2C%20-80.398657%5D%2C%20%5B36.954442%2C%20-81.078268%5D%2C%20%5B31.435454%2C%20-97.743198%5D%2C%20%5B42.383155%2C%20-71.181334%5D%2C%20%5B30.835332%2C%20-82.006609%5D%2C%20%5B29.837869%2C%20-95.301503%5D%2C%20%5B45.36978%2C%20-122.84541%5D%2C%20%5B38.506774%2C%20-90.619897%5D%2C%20%5B41.704968%2C%20-83.645649%5D%2C%20%5B33.072668%2C%20-97.109442%5D%2C%20%5B39.467732%2C%20-74.501535%5D%2C%20%5B29.877505%2C%20-95.647442%5D%2C%20%5B38.594874%2C%20-121.365331%5D%2C%20%5B38.930742%2C%20-77.031897%5D%2C%20%5B42.168023%2C%20-71.007849%5D%2C%20%5B47.361216%2C%20-122.607799%5D%2C%20%5B35.225868%2C%20-92.389539%5D%2C%20%5B38.977378%2C%20-95.247144%5D%2C%20%5B33.620867%2C%20-84.393307%5D%2C%20%5B38.144011%2C%20-85.840008%5D%2C%20%5B38.357692%2C%20-87.567779%5D%2C%20%5B43.625402%2C%20-84.227633%5D%2C%20%5B40.677207%2C%20-74.013416%5D%2C%20%5B45.927162%2C%20-116.127691%5D%2C%20%5B27.719865%2C%20-82.68077%5D%2C%20%5B42.812577%2C%20-86.123095%5D%2C%20%5B60.064865%2C%20-148.010819%5D%2C%20%5B35.593284%2C%20-78.773353%5D%2C%20%5B33.574349%2C%20-86.517872%5D%2C%20%5B41.002361%2C%20-75.182508%5D%2C%20%5B30.052838%2C%20-95.578507%5D%2C%20%5B35.115353%2C%20-80.963361%5D%2C%20%5B38.680071%2C%20-121.296523%5D%2C%20%5B40.846969%2C%20-73.832862%5D%2C%20%5B34.151664%2C%20-84.177554%5D%2C%20%5B39.111596%2C%20-76.934823%5D%2C%20%5B40.96546%2C%20-72.182492%5D%2C%20%5B38.692026%2C%20-91.439505%5D%2C%20%5B33.611998%2C%20-95.070971%5D%2C%20%5B25.763537%2C%20-80.292501%5D%2C%20%5B41.892889%2C%20-87.856563%5D%2C%20%5B40.707283%2C%20-79.726053%5D%2C%20%5B30.26738%2C%20-97.74341%5D%2C%20%5B33.744074%2C%20-87.046109%5D%2C%20%5B33.842053%2C%20-87.245507%5D%2C%20%5B36.808713%2C%20-114.065061%5D%2C%20%5B31.900851%2C%20-110.992583%5D%2C%20%5B39.385251%2C%20-76.731127%5D%2C%20%5B37.319374%2C%20-121.823708%5D%2C%20%5B43.02432%2C%20-78.738474%5D%2C%20%5B42.44151%2C%20-83.321528%5D%2C%20%5B32.818025%2C%20-79.850429%5D%2C%20%5B39.164395%2C%20-84.514846%5D%2C%20%5B29.618521%2C%20-95.609001%5D%2C%20%5B41.463432%2C%20-87.36347%5D%2C%20%5B38.789334%2C%20-90.625191%5D%2C%20%5B30.019795%2C%20-91.832062%5D%2C%20%5B30.017003%2C%20-90.187633%5D%2C%20%5B47.296775%2C%20-122.381405%5D%2C%20%5B38.080393%2C%20-81.834125%5D%2C%20%5B44.833678%2C%20-87.373266%5D%2C%20%5B41.127551%2C%20-73.388092%5D%2C%20%5B36.575181%2C%20-85.137038%5D%2C%20%5B38.568286%2C%20-121.417869%5D%2C%20%5B40.751393%2C%20-92.417909%5D%2C%20%5B26.986861%2C%20-82.107509%5D%2C%20%5B33.827982%2C%20-118.353317%5D%2C%20%5B30.161479%2C%20-85.593204%5D%2C%20%5B37.926734%2C%20-122.517824%5D%2C%20%5B41.312924%2C%20-73.051965%5D%2C%20%5B35.686657%2C%20-88.858251%5D%2C%20%5B33.030405%2C%20-96.827045%5D%2C%20%5B47.112106%2C%20-88.547288%5D%2C%20%5B41.146601%2C%20-81.506842%5D%2C%20%5B41.162019%2C%20-104.800048%5D%2C%20%5B31.134009%2C%20-83.432463%5D%2C%20%5B38.852878%2C%20-94.82402%5D%2C%20%5B61.210049%2C%20-149.763121%5D%2C%20%5B34.05507%2C%20-118.392233%5D%2C%20%5B36.100674%2C%20-79.417375%5D%2C%20%5B39.125552%2C%20-100.853989%5D%2C%20%5B40.054346%2C%20-75.070811%5D%2C%20%5B33.923328%2C%20-117.440703%5D%2C%20%5B34.620556%2C%20-78.605558%5D%2C%20%5B39.862425%2C%20-84.310717%5D%2C%20%5B33.622531%2C%20-112.424711%5D%2C%20%5B48.36348%2C%20-99.99762%5D%2C%20%5B47.488764%2C%20-92.881408%5D%2C%20%5B34.953686%2C%20-89.026298%5D%2C%20%5B39.229206%2C%20-76.816762%5D%2C%20%5B40.043925%2C%20-76.308523%5D%2C%20%5B32.402853%2C%20-93.80488%5D%2C%20%5B35.165889%2C%20-114.565098%5D%2C%20%5B42.508256%2C%20-82.926121%5D%2C%20%5B39.868121%2C%20-84.886106%5D%2C%20%5B44.877614%2C%20-94.379159%5D%2C%20%5B38.918547%2C%20-75.442217%5D%2C%20%5B35.232495%2C%20-97.439345%5D%2C%20%5B39.634904%2C%20-84.931754%5D%2C%20%5B40.188033%2C%20-105.129368%5D%2C%20%5B35.580577%2C%20-97.639141%5D%2C%20%5B35.961096%2C%20-95.39264%5D%2C%20%5B33.581431%2C%20-112.254329%5D%2C%20%5B40.78669%2C%20-80.771652%5D%2C%20%5B45.035032%2C%20-93.384013%5D%2C%20%5B41.138094%2C%20-96.042201%5D%2C%20%5B37.793369%2C%20-81.117754%5D%2C%20%5B39.263925%2C%20-119.582683%5D%2C%20%5B29.021489%2C%20-80.925072%5D%2C%20%5B42.199737%2C%20-71.425994%5D%2C%20%5B40.590444%2C%20-81.091319%5D%2C%20%5B40.387295%2C%20-111.844281%5D%2C%20%5B42.047292%2C%20-88.105464%5D%2C%20%5B41.783448%2C%20-91.12604%5D%2C%20%5B33.944305%2C%20-118.199114%5D%2C%20%5B42.587927%2C%20-72.215282%5D%2C%20%5B36.821646%2C%20-119.787839%5D%2C%20%5B35.73106%2C%20-81.336203%5D%2C%20%5B43.06858%2C%20-76.105629%5D%2C%20%5B34.744147%2C%20-87.667129%5D%2C%20%5B32.965519%2C%20-96.339918%5D%2C%20%5B47.805475%2C%20-92.274605%5D%2C%20%5B38.173776%2C%20-84.898823%5D%2C%20%5B39.264792%2C%20-80.32649%5D%2C%20%5B42.250845%2C%20-84.392744%5D%2C%20%5B40.221137%2C%20-85.458992%5D%2C%20%5B34.440983%2C%20-86.944624%5D%2C%20%5B40.034222%2C%20-111.735009%5D%2C%20%5B38.197006%2C%20-84.27808%5D%2C%20%5B39.356805%2C%20-84.394548%5D%2C%20%5B38.613013%2C%20-90.209286%5D%2C%20%5B29.480082%2C%20-98.359162%5D%2C%20%5B34.203838%2C%20-118.225693%5D%2C%20%5B34.867868%2C%20-82.347563%5D%2C%20%5B33.803375%2C%20-118.072807%5D%2C%20%5B42.969776%2C%20-85.658659%5D%2C%20%5B43.661082%2C%20-70.252437%5D%2C%20%5B32.692321%2C%20-97.079216%5D%2C%20%5B44.697044%2C%20-73.475714%5D%2C%20%5B42.990711%2C%20-78.838313%5D%2C%20%5B47.485831%2C%20-100.443184%5D%2C%20%5B46.995911%2C%20-122.823727%5D%2C%20%5B39.928108%2C%20-122.183252%5D%2C%20%5B38.315366%2C%20-84.058905%5D%2C%20%5B32.437519%2C%20-93.783858%5D%2C%20%5B33.988197%2C%20-118.32875%5D%2C%20%5B40.608202%2C%20-75.491198%5D%2C%20%5B41.443287%2C%20-85.98273%5D%2C%20%5B40.457533%2C%20-86.932989%5D%2C%20%5B47.225324%2C%20-122.468116%5D%2C%20%5B34.99148%2C%20-86.846239%5D%2C%20%5B34.033066%2C%20-118.16038%5D%2C%20%5B44.751222%2C%20-93.293932%5D%2C%20%5B39.247325%2C%20-94.576468%5D%2C%20%5B40.390411%2C%20-74.653797%5D%2C%20%5B42.769421%2C%20-87.788332%5D%2C%20%5B39.790927%2C%20-75.16017%5D%2C%20%5B35.314955%2C%20-78.625112%5D%2C%20%5B40.61005%2C%20-111.939487%5D%2C%20%5B41.867107%2C%20-71.387726%5D%2C%20%5B35.148271%2C%20-97.653624%5D%2C%20%5B36.160789%2C%20-80.276907%5D%2C%20%5B40.445623%2C%20-75.357979%5D%2C%20%5B33.698199%2C%20-117.887013%5D%2C%20%5B47.222156%2C%20-122.451557%5D%2C%20%5B29.786093%2C%20-95.219581%5D%2C%20%5B40.763981%2C%20-73.172561%5D%2C%20%5B37.70129%2C%20-121.746796%5D%2C%20%5B39.28398%2C%20-76.60059%5D%2C%20%5B32.118342%2C%20-110.796526%5D%2C%20%5B41.447289%2C%20-74.421927%5D%2C%20%5B46.25551%2C%20-119.892622%5D%2C%20%5B30.449054%2C%20-86.637885%5D%2C%20%5B38.469634%2C%20-77.460248%5D%2C%20%5B42.501527%2C%20-83.357818%5D%2C%20%5B41.448707%2C%20-82.743438%5D%2C%20%5B42.448179%2C%20-96.333574%5D%2C%20%5B33.716905%2C%20-84.212976%5D%2C%20%5B36.702115%2C%20-82.005586%5D%2C%20%5B41.280269%2C%20-72.875409%5D%2C%20%5B37.763302%2C%20-121.952999%5D%2C%20%5B44.509289%2C%20-73.079105%5D%2C%20%5B40.860772%2C%20-76.790099%5D%2C%20%5B37.674847%2C%20-122.082058%5D%2C%20%5B27.298325%2C%20-80.305087%5D%2C%20%5B47.609589%2C%20-122.201709%5D%2C%20%5B41.783936%2C%20-76.449608%5D%2C%20%5B43.308385%2C%20-87.959294%5D%2C%20%5B41.744525%2C%20-73.826973%5D%2C%20%5B38.970793%2C%20-95.299388%5D%2C%20%5B39.507546%2C%20-121.545831%5D%2C%20%5B34.202009%2C%20-118.613534%5D%2C%20%5B33.731831%2C%20-79.024996%5D%2C%20%5B34.701619%2C%20-87.529888%5D%5D%2C%0A%20%20%20%20%20%20%20%20%20%20%20%20%20%20%20%20%7B%22blur%22%3A%2015%2C%20%22maxZoom%22%3A%2018%2C%20%22minOpacity%22%3A%200.5%2C%20%22radius%22%3A%2025%7D%0A%20%20%20%20%20%20%20%20%20%20%20%20%29.addTo%28map_5d207d565c354b2194c22d21820980fe%29%3B%0A%20%20%20%20%20%20%20%20%0A%3C/script%3E onload=\"this.contentDocument.open();this.contentDocument.write(    decodeURIComponent(this.getAttribute('data-html')));this.contentDocument.close();\" allowfullscreen webkitallowfullscreen mozallowfullscreen></iframe></div></div>"
      ],
      "text/plain": [
       "<folium.folium.Map at 0x20a34bf71f0>"
      ]
     },
     "execution_count": 37,
     "metadata": {},
     "output_type": "execute_result"
    }
   ],
   "source": [
    "map = folium.Map()\n",
    "HeatMap(lat_lon_pairs).add_to(map)          #adding longitude and latitude values to map to create heat map.\n",
    "map\n"
   ]
  },
  {
   "cell_type": "code",
   "execution_count": null,
   "id": "5e31ec75",
   "metadata": {},
   "outputs": [],
   "source": []
  }
 ],
 "metadata": {
  "kernelspec": {
   "display_name": "Python 3 (ipykernel)",
   "language": "python",
   "name": "python3"
  },
  "language_info": {
   "codemirror_mode": {
    "name": "ipython",
    "version": 3
   },
   "file_extension": ".py",
   "mimetype": "text/x-python",
   "name": "python",
   "nbconvert_exporter": "python",
   "pygments_lexer": "ipython3",
   "version": "3.9.7"
  }
 },
 "nbformat": 4,
 "nbformat_minor": 5
}
