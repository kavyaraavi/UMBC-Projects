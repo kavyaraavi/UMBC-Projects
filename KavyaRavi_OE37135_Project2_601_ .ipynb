{
 "cells": [
  {
   "cell_type": "markdown",
   "id": "82064406",
   "metadata": {},
   "source": [
    "# 601 Project 2\n",
    "## This Analysis is about Town Cary Crashes from the Year 2012 to 2017\n",
    "### DataSet Source: https://data.world/townofcary/cpd-crash-incidents/workspace/file?filename=crash-data_4.csv\n",
    "\n",
    "### The Analysis Include following Hypothesis:\n",
    "#####    1. Most Crashes happen in which Weather. \n",
    "#####    2. Crashes happen in which light conditions.\n",
    "#####    3. Percentage of injuries during Crash.\n",
    "#####    4.Crashes happen in which part of the day.\n",
    "#####    5. Which part of the week more crashes occur.\n",
    "#####    6. Which type of roads has less crashes reported.\n",
    "#####    7. Which month recorded less crashes."
   ]
  },
  {
   "cell_type": "code",
   "execution_count": 1,
   "id": "5949184e",
   "metadata": {},
   "outputs": [
    {
     "name": "stdout",
     "output_type": "stream",
     "text": [
      "Requirement already satisfied: opendatasets in c:\\users\\omkar\\anaconda3\\lib\\site-packages (0.1.20)\n",
      "Requirement already satisfied: kaggle in c:\\users\\omkar\\anaconda3\\lib\\site-packages (from opendatasets) (1.5.12)\n",
      "Requirement already satisfied: click in c:\\users\\omkar\\anaconda3\\lib\\site-packages (from opendatasets) (7.1.2)\n",
      "Requirement already satisfied: tqdm in c:\\users\\omkar\\anaconda3\\lib\\site-packages (from opendatasets) (4.59.0)\n",
      "Requirement already satisfied: requests in c:\\users\\omkar\\anaconda3\\lib\\site-packages (from kaggle->opendatasets) (2.25.1)\n",
      "Requirement already satisfied: urllib3 in c:\\users\\omkar\\anaconda3\\lib\\site-packages (from kaggle->opendatasets) (1.26.4)\n",
      "Requirement already satisfied: python-dateutil in c:\\users\\omkar\\anaconda3\\lib\\site-packages (from kaggle->opendatasets) (2.8.1)\n",
      "Requirement already satisfied: python-slugify in c:\\users\\omkar\\anaconda3\\lib\\site-packages (from kaggle->opendatasets) (5.0.2)\n",
      "Requirement already satisfied: certifi in c:\\users\\omkar\\anaconda3\\lib\\site-packages (from kaggle->opendatasets) (2020.12.5)\n",
      "Requirement already satisfied: six>=1.10 in c:\\users\\omkar\\anaconda3\\lib\\site-packages (from kaggle->opendatasets) (1.15.0)\n",
      "Requirement already satisfied: text-unidecode>=1.3 in c:\\users\\omkar\\anaconda3\\lib\\site-packages (from python-slugify->kaggle->opendatasets) (1.3)\n",
      "Requirement already satisfied: idna<3,>=2.5 in c:\\users\\omkar\\anaconda3\\lib\\site-packages (from requests->kaggle->opendatasets) (2.10)\n",
      "Requirement already satisfied: chardet<5,>=3.0.2 in c:\\users\\omkar\\anaconda3\\lib\\site-packages (from requests->kaggle->opendatasets) (4.0.0)\n",
      "Note: you may need to restart the kernel to use updated packages.\n"
     ]
    }
   ],
   "source": [
    "pip install opendatasets --upgrade"
   ]
  },
  {
   "cell_type": "code",
   "execution_count": 1,
   "id": "462f999c",
   "metadata": {},
   "outputs": [
    {
     "name": "stdout",
     "output_type": "stream",
     "text": [
      "Requirement already satisfied: plotly in c:\\users\\kavya\\anaconda3\\lib\\site-packages (5.1.0)\n",
      "Requirement already satisfied: tenacity>=6.2.0 in c:\\users\\kavya\\anaconda3\\lib\\site-packages (from plotly) (8.0.1)\n",
      "Requirement already satisfied: six in c:\\users\\kavya\\anaconda3\\lib\\site-packages (from plotly) (1.15.0)\n"
     ]
    }
   ],
   "source": [
    "!pip install plotly\n",
    "import numpy as np\n",
    "import pandas as pd\n",
    "import matplotlib.pyplot as plt\n",
    "import seaborn as sns\n",
    "sns.set_theme(style=\"ticks\", color_codes=True)\n",
    "import re\n",
    "import datetime\n",
    "import plotly.graph_objects as go\n",
    "from IPython.core.display import HTML\n",
    "import requests\n",
    "from io import StringIO\n",
    "\n",
    "\n",
    "orig_url = \"https://drive.google.com/file/d/1dfyITbvAvzpoOHxWg2_AwEAVIYDkPirA/view?usp=sharing\"\n",
    "file_id = orig_url.split('/')[-2]\n",
    "dwn_url='https://drive.google.com/uc?export=download&id=' + file_id\n",
    "url = requests.get(dwn_url).text\n",
    "csv_raw = StringIO(url)\n",
    "df = pd.read_csv(csv_raw)"
   ]
  },
  {
   "cell_type": "code",
   "execution_count": 2,
   "id": "6fc403fc",
   "metadata": {
    "scrolled": true
   },
   "outputs": [
    {
     "data": {
      "text/plain": [
       "tamainid                    0\n",
       "location_description        2\n",
       "rdfeature                 735\n",
       "rdcharacter              3737\n",
       "rdclass                  3851\n",
       "rdconfigur               3857\n",
       "rdsurface                3730\n",
       "rdcondition              3725\n",
       "lightcond                3816\n",
       "weather                  3831\n",
       "trafcontrl               3991\n",
       "lat                     12567\n",
       "lon                     12567\n",
       "lon2                    10053\n",
       "lat2                    10050\n",
       "tract                   13105\n",
       "zone                    11639\n",
       "fatality                 3292\n",
       "possblinj                3292\n",
       "numpassengers           17690\n",
       "numpedestrians          25380\n",
       "contrcir1_desc           9170\n",
       "contrcir2_desc          25432\n",
       "contrcir3_desc           4160\n",
       "contrcir4_desc          25403\n",
       "vehicle1                 4295\n",
       "vehicle2                 7275\n",
       "vehicle3                24194\n",
       "vehicle4                25332\n",
       "vehicle5                25457\n",
       "workarea                 4058\n",
       "records                  3362\n",
       "ta_date                  3362\n",
       "ta_time                  3362\n",
       "crash_date               3362\n",
       "geo_location            12607\n",
       "year                     3362\n",
       "fatalities               3362\n",
       "injuries                 3362\n",
       "month                    3362\n",
       "contrfact1               9231\n",
       "contrfact2               4114\n",
       "contributing_factor     20195\n",
       "vehicleconcat1          20026\n",
       "vehicleconcat2          24544\n",
       "vehicleconcat3          24548\n",
       "vehicle_type            24548\n",
       "dtype: int64"
      ]
     },
     "execution_count": 2,
     "metadata": {},
     "output_type": "execute_result"
    }
   ],
   "source": [
    "Nullcheck = df.isnull().sum()    #checking how many null values are present in dataset by column\n",
    "Nullcheck"
   ]
  },
  {
   "cell_type": "code",
   "execution_count": 3,
   "id": "85bf6ccf",
   "metadata": {},
   "outputs": [
    {
     "name": "stdout",
     "output_type": "stream",
     "text": [
      "(25489, 47)\n"
     ]
    }
   ],
   "source": [
    "print(df.shape)   #Prints number of columns and rows"
   ]
  },
  {
   "cell_type": "code",
   "execution_count": 4,
   "id": "e59194ff",
   "metadata": {},
   "outputs": [],
   "source": [
    "drop_cols=['lon2','lat2','tract','zone','fatality','possblinj','numpedestrians','contrcir1_desc','contrcir2_desc','contrcir3_desc',\n",
    "          'contrcir4_desc','records','rdclass','rdcharacter','geo_location','contrfact2','contrfact1','vehicle3','tract','vehicle4','vehicle5','contributing_factor','vehicleconcat1','vehicleconcat2','vehicleconcat3','vehicle_type']\n",
    "\n",
    "df=df.drop(drop_cols,axis=1)          #Dropping the unwanted columns"
   ]
  },
  {
   "cell_type": "code",
   "execution_count": 5,
   "id": "418f31c4",
   "metadata": {},
   "outputs": [
    {
     "name": "stdout",
     "output_type": "stream",
     "text": [
      "tamainid                    0\n",
      "location_description        2\n",
      "rdfeature                 735\n",
      "rdconfigur               3857\n",
      "rdsurface                3730\n",
      "rdcondition              3725\n",
      "lightcond                3816\n",
      "weather                  3831\n",
      "trafcontrl               3991\n",
      "lat                     12567\n",
      "lon                     12567\n",
      "numpassengers           17690\n",
      "vehicle1                 4295\n",
      "vehicle2                 7275\n",
      "workarea                 4058\n",
      "ta_date                  3362\n",
      "ta_time                  3362\n",
      "crash_date               3362\n",
      "year                     3362\n",
      "fatalities               3362\n",
      "injuries                 3362\n",
      "month                    3362\n",
      "dtype: int64\n"
     ]
    }
   ],
   "source": [
    "print(df.isnull().sum())          #prints number of null values"
   ]
  },
  {
   "cell_type": "code",
   "execution_count": 6,
   "id": "75fbbb91",
   "metadata": {},
   "outputs": [
    {
     "name": "stdout",
     "output_type": "stream",
     "text": [
      "(25489, 22)\n"
     ]
    }
   ],
   "source": [
    "print(df.shape)             #Prints number of columns and rows"
   ]
  },
  {
   "cell_type": "code",
   "execution_count": 7,
   "id": "77857486",
   "metadata": {},
   "outputs": [],
   "source": [
    "df[\"numpassengers\"].fillna( method ='ffill', inplace = True)\n",
    "df[\"rdconfigur\"].fillna( method ='bfill', inplace = True)\n",
    "df[\"vehicle2\"].fillna( method ='ffill', inplace = True)\n",
    "df[\"lat\"].fillna( method ='bfill', inplace = True)\n",
    "df[\"lon\"].fillna( method ='bfill', inplace = True)\n",
    "\n",
    "#Filling up the null values using back fill and forward fill"
   ]
  },
  {
   "cell_type": "code",
   "execution_count": 8,
   "id": "6faedb0e",
   "metadata": {
    "scrolled": true
   },
   "outputs": [
    {
     "name": "stdout",
     "output_type": "stream",
     "text": [
      "tamainid                   0\n",
      "location_description       2\n",
      "rdfeature                735\n",
      "rdconfigur                 0\n",
      "rdsurface               3730\n",
      "rdcondition             3725\n",
      "lightcond               3816\n",
      "weather                 3831\n",
      "trafcontrl              3991\n",
      "lat                        0\n",
      "lon                        0\n",
      "numpassengers              3\n",
      "vehicle1                4295\n",
      "vehicle2                   1\n",
      "workarea                4058\n",
      "ta_date                 3362\n",
      "ta_time                 3362\n",
      "crash_date              3362\n",
      "year                    3362\n",
      "fatalities              3362\n",
      "injuries                3362\n",
      "month                   3362\n",
      "dtype: int64\n"
     ]
    }
   ],
   "source": [
    "print(df.isnull().sum())       #prints number of null values"
   ]
  },
  {
   "cell_type": "code",
   "execution_count": 9,
   "id": "f96b9999",
   "metadata": {},
   "outputs": [],
   "source": [
    "df1=df.drop_duplicates(keep='first')            #Dropping the duplicate values"
   ]
  },
  {
   "cell_type": "code",
   "execution_count": 10,
   "id": "9eb6230f",
   "metadata": {},
   "outputs": [
    {
     "name": "stdout",
     "output_type": "stream",
     "text": [
      "(25489, 22)\n",
      "(25489, 22)\n"
     ]
    }
   ],
   "source": [
    "print(df.shape) #After checking for duplicates           #printing the shape of datasets which gives number of columns and rows\n",
    "print(df1.shape) #Before checking for duplicates     \n",
    "#so here columns and rows were same before and after. So there are no duplicate values"
   ]
  },
  {
   "cell_type": "code",
   "execution_count": 11,
   "id": "5c2d1f90",
   "metadata": {},
   "outputs": [],
   "source": [
    "df.dropna(axis=0,inplace=True)            #dropping null values"
   ]
  },
  {
   "cell_type": "code",
   "execution_count": 12,
   "id": "78848b36",
   "metadata": {},
   "outputs": [
    {
     "name": "stdout",
     "output_type": "stream",
     "text": [
      "(20814, 22)\n"
     ]
    }
   ],
   "source": [
    "print(df.shape)                 ##printing the shape of datasets which gives number of columns and rows"
   ]
  },
  {
   "cell_type": "code",
   "execution_count": 13,
   "id": "13fb0f6e",
   "metadata": {},
   "outputs": [
    {
     "name": "stdout",
     "output_type": "stream",
     "text": [
      "tamainid                0\n",
      "location_description    0\n",
      "rdfeature               0\n",
      "rdconfigur              0\n",
      "rdsurface               0\n",
      "rdcondition             0\n",
      "lightcond               0\n",
      "weather                 0\n",
      "trafcontrl              0\n",
      "lat                     0\n",
      "lon                     0\n",
      "numpassengers           0\n",
      "vehicle1                0\n",
      "vehicle2                0\n",
      "workarea                0\n",
      "ta_date                 0\n",
      "ta_time                 0\n",
      "crash_date              0\n",
      "year                    0\n",
      "fatalities              0\n",
      "injuries                0\n",
      "month                   0\n",
      "dtype: int64\n"
     ]
    }
   ],
   "source": [
    "print(df.isnull().sum())            #prints number of null values"
   ]
  },
  {
   "cell_type": "markdown",
   "id": "c8da4c09",
   "metadata": {},
   "source": [
    "# EXPLORATORY DATA ANALYSIS"
   ]
  },
  {
   "cell_type": "markdown",
   "id": "ab4e2b80",
   "metadata": {},
   "source": [
    "## Hypothesis 1 :  Most Crashes happen in rainy days\n"
   ]
  },
  {
   "cell_type": "code",
   "execution_count": 14,
   "id": "10f3bf74",
   "metadata": {},
   "outputs": [
    {
     "data": {
      "text/plain": [
       "<AxesSubplot:title={'center':'Accidents by Weather'}, xlabel='weather', ylabel='count'>"
      ]
     },
     "execution_count": 14,
     "metadata": {},
     "output_type": "execute_result"
    },
    {
     "data": {
      "image/png": "[encoded data removed]",
      "text/plain": [
       "<Figure size 1080x504 with 1 Axes>"
      ]
     },
     "metadata": {},
     "output_type": "display_data"
    }
   ],
   "source": [
    "#countplot is used to create the hist or bar graphs\n",
    "#plotting Crashes by Weather\n",
    "plt.figure(1, figsize=(15, 7))\n",
    "plt.title(\"Accidents by Weather\")\n",
    "sns.countplot(x = \"weather\", order=df['weather'].value_counts().index[0:10],data=df,palette='Accent')"
   ]
  },
  {
   "cell_type": "markdown",
   "id": "c934e400",
   "metadata": {},
   "source": [
    "#### From the above graph we can see that accidents happen more when weather is clear. So, our hypothesis is False."
   ]
  },
  {
   "cell_type": "markdown",
   "id": "6f89a98b",
   "metadata": {},
   "source": [
    "## Hypothesis 2 : Percentage of Injuries during crash will be less."
   ]
  },
  {
   "cell_type": "code",
   "execution_count": 15,
   "id": "24c92993",
   "metadata": {},
   "outputs": [
    {
     "data": {
      "image/png": "[encoded data removed]",
      "text/plain": [
       "<Figure size 432x288 with 1 Axes>"
      ]
     },
     "metadata": {},
     "output_type": "display_data"
    }
   ],
   "source": [
    "d=df['injuries'].value_counts()\n",
    "d.plot.pie(radius=1.3,explode=[0,0.05],autopct='%1.1f%%',shadow=True, colors='gr')\n",
    "plt.title('Injuries occured during crash')\n",
    "plt.show()\n",
    "\n",
    "#plotting pie chart to display percentage of injuries."
   ]
  },
  {
   "cell_type": "markdown",
   "id": "df74109c",
   "metadata": {},
   "source": [
    "#### From the graph we can see there were only 15% injuries during crashes. So, our hypothesis is True."
   ]
  },
  {
   "cell_type": "code",
   "execution_count": 16,
   "id": "e6e50616",
   "metadata": {},
   "outputs": [
    {
     "data": {
      "text/plain": [
       "3       2012-02-22 20:09:05+00:00\n",
       "4       2012-02-27 18:02:25+00:00\n",
       "5       2012-02-28 21:15:17+00:00\n",
       "6       2012-02-28 23:00:09+00:00\n",
       "8       2012-03-01 22:39:16+00:00\n",
       "                   ...           \n",
       "25484   2015-03-22 18:43:25+00:00\n",
       "25485   2015-03-24 16:33:00+00:00\n",
       "25486   2015-03-25 15:09:00+00:00\n",
       "25487   2015-03-24 20:52:30+00:00\n",
       "25488   2015-03-27 15:16:00+00:00\n",
       "Name: crash_date, Length: 20814, dtype: datetime64[ns, UTC]"
      ]
     },
     "execution_count": 16,
     "metadata": {},
     "output_type": "execute_result"
    }
   ],
   "source": [
    "df.crash_date = pd.to_datetime(df.crash_date)  #getting crash dates\n",
    "df.crash_date"
   ]
  },
  {
   "cell_type": "markdown",
   "id": "3918d1b8",
   "metadata": {},
   "source": [
    "## Hypothesis 3: Mornings Tends to have more crashes.\n"
   ]
  },
  {
   "cell_type": "code",
   "execution_count": 17,
   "id": "77fbba5f",
   "metadata": {},
   "outputs": [
    {
     "data": {
      "text/plain": [
       "Text(0.5, 0, 'Hours')"
      ]
     },
     "execution_count": 17,
     "metadata": {},
     "output_type": "execute_result"
    },
    {
     "data": {
      "image/png": "[encoded data removed]",
      "text/plain": [
       "<Figure size 432x288 with 1 Axes>"
      ]
     },
     "metadata": {},
     "output_type": "display_data"
    }
   ],
   "source": [
    "sns.histplot(df.crash_date.dt.hour, bins=24,color='purple',edgecolor='black')\n",
    "plt.title('Crash by time')             #assigning the title\n",
    "plt.xlabel('Hours')\n",
    "\n",
    "#plotting using hist to show which time has more crashes reported."
   ]
  },
  {
   "cell_type": "markdown",
   "id": "81b694ff",
   "metadata": {},
   "source": [
    "#### From the graph above we can see crashes happen around 7-10PM. So, our hypothesis is false. "
   ]
  },
  {
   "cell_type": "markdown",
   "id": "2d68316f",
   "metadata": {},
   "source": [
    "## Hypothesis 4:  less crashes happens on Weekends."
   ]
  },
  {
   "cell_type": "code",
   "execution_count": 18,
   "id": "28b2b012",
   "metadata": {},
   "outputs": [
    {
     "data": {
      "text/plain": [
       "<AxesSubplot:xlabel='crash_date', ylabel='Count'>"
      ]
     },
     "execution_count": 18,
     "metadata": {},
     "output_type": "execute_result"
    },
    {
     "data": {
      "image/png": "[encoded data removed]",
      "text/plain": [
       "<Figure size 432x288 with 1 Axes>"
      ]
     },
     "metadata": {},
     "output_type": "display_data"
    }
   ],
   "source": [
    "sns.histplot(df.crash_date.dt.dayofweek, bins=7,color='orange')   # Here 0-monday, 1-Tuesday....,6-Sunday\n",
    "\n",
    "#Reference: https://www.geeksforgeeks.org/python-pandas-series-dt-dayofweek/"
   ]
  },
  {
   "cell_type": "markdown",
   "id": "7ced0e93",
   "metadata": {},
   "source": [
    "#### From the graph Fridays tends to have more crashes and sunday has less crashes. So, hypothesis is True."
   ]
  },
  {
   "cell_type": "markdown",
   "id": "21929e5b",
   "metadata": {},
   "source": [
    "#### Also, According to the data given by OHSO report.\n",
    "#### FRIDAY reported more number of accidents and SUNDAY reported less number of accidents.\n"
   ]
  },
  {
   "cell_type": "markdown",
   "id": "c41376d0",
   "metadata": {},
   "source": [
    "# Year VS month\n",
    "### Here, only December 2017 didn't report any crash.\n",
    "#### This is because december 2017 data is not given in our dataset.\n",
    "\n",
    "### We can conclude that every month of the year from 2012-2017 Crashes had happened."
   ]
  },
  {
   "cell_type": "code",
   "execution_count": 19,
   "id": "f5830377",
   "metadata": {},
   "outputs": [
    {
     "data": {
      "text/plain": [
       "<AxesSubplot:xlabel='year', ylabel='month'>"
      ]
     },
     "execution_count": 19,
     "metadata": {},
     "output_type": "execute_result"
    },
    {
     "data": {
      "image/png": "[encoded data removed]",
      "text/plain": [
       "<Figure size 432x288 with 1 Axes>"
      ]
     },
     "metadata": {},
     "output_type": "display_data"
    }
   ],
   "source": [
    "import seaborn                #importing seaborn\n",
    "seaborn.set(style='whitegrid')\n",
    "seaborn.boxplot(x=\"year\",\n",
    "                y=\"month\",            #assigning X,Y axis with year and month\n",
    "                data=df)\n",
    "\n",
    "\n",
    "#plotting boxplot for Year and month"
   ]
  },
  {
   "cell_type": "markdown",
   "id": "ff4fdd7b",
   "metadata": {},
   "source": [
    "## Hypothesis 5: Wet roads tends to have more crashes."
   ]
  },
  {
   "cell_type": "code",
   "execution_count": 20,
   "id": "fb95b296",
   "metadata": {},
   "outputs": [
    {
     "data": {
      "text/plain": [
       "<AxesSubplot:xlabel='rdcondition', ylabel='Count'>"
      ]
     },
     "execution_count": 20,
     "metadata": {},
     "output_type": "execute_result"
    },
    {
     "data": {
      "image/png": "[encoded data removed]",
      "text/plain": [
       "<Figure size 432x288 with 1 Axes>"
      ]
     },
     "metadata": {},
     "output_type": "display_data"
    }
   ],
   "source": [
    "import seaborn as sns                  #importing seaborn\n",
    "import matplotlib.pyplot as plt\n",
    "sns.histplot(df.rdcondition,bins=10,color = \"seagreen\")         #plotting using hist and giving the appropriate color"
   ]
  },
  {
   "cell_type": "markdown",
   "id": "dc5ec00e",
   "metadata": {},
   "source": [
    "#### Than wet roads, dry roads had more crashes. So, our hypothesis is False."
   ]
  },
  {
   "cell_type": "markdown",
   "id": "194d8c9c",
   "metadata": {},
   "source": [
    "## Hypothesis 6: Winter months tend to have more crashes."
   ]
  },
  {
   "cell_type": "code",
   "execution_count": 21,
   "id": "06ad0f0f",
   "metadata": {},
   "outputs": [
    {
     "data": {
      "text/plain": [
       "<AxesSubplot:xlabel='month', ylabel='Count'>"
      ]
     },
     "execution_count": 21,
     "metadata": {},
     "output_type": "execute_result"
    },
    {
     "data": {
      "image/png": "[encoded data removed]",
      "text/plain": [
       "<Figure size 432x288 with 1 Axes>"
      ]
     },
     "metadata": {},
     "output_type": "display_data"
    }
   ],
   "source": [
    "sns.histplot(df.month,bins=12,color = \"yellow\")            #plotting no. of accidents by month\n"
   ]
  },
  {
   "cell_type": "markdown",
   "id": "bede4f7a",
   "metadata": {},
   "source": [
    "#### Here MAY had many crashes reported. So, our hypothesis is False.\n",
    "\n",
    "### According to many other analysis, I found that more accidents tend to happen in Summer. \n",
    "\n",
    "### https://www.petruzelo.com/tips-are-car-accidents-more-likely-to-occur-during-winter.php#:~:text=Many%20people%20assume%20that%20accidents%20are%20more%20likely,weather%2C%20which%20makes%20accidents%20more%20likely%20to%20occur."
   ]
  },
  {
   "cell_type": "markdown",
   "id": "a26f4605",
   "metadata": {},
   "source": [
    "# Location of Crashes"
   ]
  },
  {
   "cell_type": "code",
   "execution_count": 22,
   "id": "43e678b8",
   "metadata": {},
   "outputs": [
    {
     "name": "stdout",
     "output_type": "stream",
     "text": [
      "Requirement already satisfied: folium in c:\\users\\kavya\\anaconda3\\lib\\site-packages (0.12.1)\n",
      "Requirement already satisfied: numpy in c:\\users\\kavya\\anaconda3\\lib\\site-packages (from folium) (1.20.1)\n",
      "Requirement already satisfied: jinja2>=2.9 in c:\\users\\kavya\\anaconda3\\lib\\site-packages (from folium) (2.11.3)\n",
      "Requirement already satisfied: branca>=0.3.0 in c:\\users\\kavya\\anaconda3\\lib\\site-packages (from folium) (0.4.2)\n",
      "Requirement already satisfied: requests in c:\\users\\kavya\\anaconda3\\lib\\site-packages (from folium) (2.25.1)\n",
      "Requirement already satisfied: MarkupSafe>=0.23 in c:\\users\\kavya\\anaconda3\\lib\\site-packages (from jinja2>=2.9->folium) (1.1.1)\n",
      "Requirement already satisfied: idna<3,>=2.5 in c:\\users\\kavya\\anaconda3\\lib\\site-packages (from requests->folium) (2.10)\n",
      "Requirement already satisfied: certifi>=2017.4.17 in c:\\users\\kavya\\anaconda3\\lib\\site-packages (from requests->folium) (2020.12.5)\n",
      "Requirement already satisfied: chardet<5,>=3.0.2 in c:\\users\\kavya\\anaconda3\\lib\\site-packages (from requests->folium) (4.0.0)\n",
      "Requirement already satisfied: urllib3<1.27,>=1.21.1 in c:\\users\\kavya\\anaconda3\\lib\\site-packages (from requests->folium) (1.26.4)\n",
      "24864    35.819084\n",
      "16201    35.746398\n",
      "23180    35.823551\n",
      "7072     35.801296\n",
      "5311     35.820401\n",
      "           ...    \n",
      "19871    35.842343\n",
      "2518     35.791936\n",
      "16564    35.742022\n",
      "4786     35.820002\n",
      "7851     35.829708\n",
      "Name: lat, Length: 100, dtype: float64\n",
      "24864   -78.743861\n",
      "16201   -78.742307\n",
      "23180   -78.886137\n",
      "7072    -78.805195\n",
      "5311    -78.873682\n",
      "           ...    \n",
      "19871   -78.903313\n",
      "2518    -78.775625\n",
      "16564   -78.798080\n",
      "4786    -78.778494\n",
      "7851    -78.768514\n",
      "Name: lon, Length: 100, dtype: float64\n"
     ]
    }
   ],
   "source": [
    "!pip install folium\n",
    "import folium\n",
    "for x in df[['lat', 'lon']].sample(100).iteritems(): #iterating through all the longitude and latitude values to plot\n",
    "    print(x[1])"
   ]
  },
  {
   "cell_type": "code",
   "execution_count": 23,
   "id": "fbacf8d5",
   "metadata": {},
   "outputs": [
    {
     "data": {
      "text/plain": [
       "<zip at 0x1df8289f040>"
      ]
     },
     "execution_count": 23,
     "metadata": {},
     "output_type": "execute_result"
    }
   ],
   "source": [
    "zip(list(df.lat), list(df.lon))   #zipping creates pairs"
   ]
  },
  {
   "cell_type": "code",
   "execution_count": 24,
   "id": "cd24c430",
   "metadata": {},
   "outputs": [],
   "source": [
    "from folium.plugins import HeatMap   #importing heat map from folium"
   ]
  },
  {
   "cell_type": "code",
   "execution_count": 25,
   "id": "9cb4f5d0",
   "metadata": {},
   "outputs": [],
   "source": [
    "sample_df = df.sample(int(0.001 * len(df)))          #taking one percent of data here from dataset\n",
    "lat_lon_pairs = list(zip(list(sample_df.lat), list(sample_df.lon)))  \n",
    "#creating pairs of longitude and longitude and adding them to map"
   ]
  },
  {
   "cell_type": "code",
   "execution_count": 26,
   "id": "87d7bdb8",
   "metadata": {},
   "outputs": [
    {
     "name": "stdout",
     "output_type": "stream",
     "text": [
      "Requirement already satisfied: folium in c:\\users\\kavya\\anaconda3\\lib\\site-packages (0.12.1)\n",
      "Requirement already satisfied: branca>=0.3.0 in c:\\users\\kavya\\anaconda3\\lib\\site-packages (from folium) (0.4.2)\n",
      "Requirement already satisfied: requests in c:\\users\\kavya\\anaconda3\\lib\\site-packages (from folium) (2.25.1)\n",
      "Requirement already satisfied: numpy in c:\\users\\kavya\\anaconda3\\lib\\site-packages (from folium) (1.20.1)\n",
      "Requirement already satisfied: jinja2>=2.9 in c:\\users\\kavya\\anaconda3\\lib\\site-packages (from folium) (2.11.3)\n",
      "Requirement already satisfied: MarkupSafe>=0.23 in c:\\users\\kavya\\anaconda3\\lib\\site-packages (from jinja2>=2.9->folium) (1.1.1)\n",
      "Requirement already satisfied: urllib3<1.27,>=1.21.1 in c:\\users\\kavya\\anaconda3\\lib\\site-packages (from requests->folium) (1.26.4)\n",
      "Requirement already satisfied: certifi>=2017.4.17 in c:\\users\\kavya\\anaconda3\\lib\\site-packages (from requests->folium) (2020.12.5)\n",
      "Requirement already satisfied: idna<3,>=2.5 in c:\\users\\kavya\\anaconda3\\lib\\site-packages (from requests->folium) (2.10)\n",
      "Requirement already satisfied: chardet<5,>=3.0.2 in c:\\users\\kavya\\anaconda3\\lib\\site-packages (from requests->folium) (4.0.0)\n"
     ]
    },
    {
     "data": {
      "text/html": [
       "<div style=\"width:100%;\"><div style=\"position:relative;width:100%;height:0;padding-bottom:60%;\"><span style=\"color:#565656\">Make this Notebook Trusted to load map: File -> Trust Notebook</span><iframe src=\"about:blank\" style=\"position:absolute;width:100%;height:100%;left:0;top:0;border:none !important;\" data-html=%3C%21DOCTYPE%20html%3E%0A%3Chead%3E%20%20%20%20%0A%20%20%20%20%3Cmeta%20http-equiv%3D%22content-type%22%20content%3D%22text/html%3B%20charset%3DUTF-8%22%20/%3E%0A%20%20%20%20%0A%20%20%20%20%20%20%20%20%3Cscript%3E%0A%20%20%20%20%20%20%20%20%20%20%20%20L_NO_TOUCH%20%3D%20false%3B%0A%20%20%20%20%20%20%20%20%20%20%20%20L_DISABLE_3D%20%3D%20false%3B%0A%20%20%20%20%20%20%20%20%3C/script%3E%0A%20%20%20%20%0A%20%20%20%20%3Cstyle%3Ehtml%2C%20body%20%7Bwidth%3A%20100%25%3Bheight%3A%20100%25%3Bmargin%3A%200%3Bpadding%3A%200%3B%7D%3C/style%3E%0A%20%20%20%20%3Cstyle%3E%23map%20%7Bposition%3Aabsolute%3Btop%3A0%3Bbottom%3A0%3Bright%3A0%3Bleft%3A0%3B%7D%3C/style%3E%0A%20%20%20%20%3Cscript%20src%3D%22https%3A//cdn.jsdelivr.net/npm/leaflet%401.6.0/dist/leaflet.js%22%3E%3C/script%3E%0A%20%20%20%20%3Cscript%20src%3D%22https%3A//code.jquery.com/jquery-1.12.4.min.js%22%3E%3C/script%3E%0A%20%20%20%20%3Cscript%20src%3D%22https%3A//maxcdn.bootstrapcdn.com/bootstrap/3.2.0/js/bootstrap.min.js%22%3E%3C/script%3E%0A%20%20%20%20%3Cscript%20src%3D%22https%3A//cdnjs.cloudflare.com/ajax/libs/Leaflet.awesome-markers/2.0.2/leaflet.awesome-markers.js%22%3E%3C/script%3E%0A%20%20%20%20%3Clink%20rel%3D%22stylesheet%22%20href%3D%22https%3A//cdn.jsdelivr.net/npm/leaflet%401.6.0/dist/leaflet.css%22/%3E%0A%20%20%20%20%3Clink%20rel%3D%22stylesheet%22%20href%3D%22https%3A//maxcdn.bootstrapcdn.com/bootstrap/3.2.0/css/bootstrap.min.css%22/%3E%0A%20%20%20%20%3Clink%20rel%3D%22stylesheet%22%20href%3D%22https%3A//maxcdn.bootstrapcdn.com/bootstrap/3.2.0/css/bootstrap-theme.min.css%22/%3E%0A%20%20%20%20%3Clink%20rel%3D%22stylesheet%22%20href%3D%22https%3A//maxcdn.bootstrapcdn.com/font-awesome/4.6.3/css/font-awesome.min.css%22/%3E%0A%20%20%20%20%3Clink%20rel%3D%22stylesheet%22%20href%3D%22https%3A//cdnjs.cloudflare.com/ajax/libs/Leaflet.awesome-markers/2.0.2/leaflet.awesome-markers.css%22/%3E%0A%20%20%20%20%3Clink%20rel%3D%22stylesheet%22%20href%3D%22https%3A//cdn.jsdelivr.net/gh/python-visualization/folium/folium/templates/leaflet.awesome.rotate.min.css%22/%3E%0A%20%20%20%20%0A%20%20%20%20%20%20%20%20%20%20%20%20%3Cmeta%20name%3D%22viewport%22%20content%3D%22width%3Ddevice-width%2C%0A%20%20%20%20%20%20%20%20%20%20%20%20%20%20%20%20initial-scale%3D1.0%2C%20maximum-scale%3D1.0%2C%20user-scalable%3Dno%22%20/%3E%0A%20%20%20%20%20%20%20%20%20%20%20%20%3Cstyle%3E%0A%20%20%20%20%20%20%20%20%20%20%20%20%20%20%20%20%23map_04696beaa32d4a17a3be36a5384410fe%20%7B%0A%20%20%20%20%20%20%20%20%20%20%20%20%20%20%20%20%20%20%20%20position%3A%20relative%3B%0A%20%20%20%20%20%20%20%20%20%20%20%20%20%20%20%20%20%20%20%20width%3A%20100.0%25%3B%0A%20%20%20%20%20%20%20%20%20%20%20%20%20%20%20%20%20%20%20%20height%3A%20100.0%25%3B%0A%20%20%20%20%20%20%20%20%20%20%20%20%20%20%20%20%20%20%20%20left%3A%200.0%25%3B%0A%20%20%20%20%20%20%20%20%20%20%20%20%20%20%20%20%20%20%20%20top%3A%200.0%25%3B%0A%20%20%20%20%20%20%20%20%20%20%20%20%20%20%20%20%7D%0A%20%20%20%20%20%20%20%20%20%20%20%20%3C/style%3E%0A%20%20%20%20%20%20%20%20%0A%20%20%20%20%3Cscript%20src%3D%22https%3A//cdn.jsdelivr.net/gh/python-visualization/folium%40master/folium/templates/leaflet_heat.min.js%22%3E%3C/script%3E%0A%3C/head%3E%0A%3Cbody%3E%20%20%20%20%0A%20%20%20%20%0A%20%20%20%20%20%20%20%20%20%20%20%20%3Cdiv%20class%3D%22folium-map%22%20id%3D%22map_04696beaa32d4a17a3be36a5384410fe%22%20%3E%3C/div%3E%0A%20%20%20%20%20%20%20%20%0A%3C/body%3E%0A%3Cscript%3E%20%20%20%20%0A%20%20%20%20%0A%20%20%20%20%20%20%20%20%20%20%20%20var%20map_04696beaa32d4a17a3be36a5384410fe%20%3D%20L.map%28%0A%20%20%20%20%20%20%20%20%20%20%20%20%20%20%20%20%22map_04696beaa32d4a17a3be36a5384410fe%22%2C%0A%20%20%20%20%20%20%20%20%20%20%20%20%20%20%20%20%7B%0A%20%20%20%20%20%20%20%20%20%20%20%20%20%20%20%20%20%20%20%20center%3A%20%5B0%2C%200%5D%2C%0A%20%20%20%20%20%20%20%20%20%20%20%20%20%20%20%20%20%20%20%20crs%3A%20L.CRS.EPSG3857%2C%0A%20%20%20%20%20%20%20%20%20%20%20%20%20%20%20%20%20%20%20%20zoom%3A%201%2C%0A%20%20%20%20%20%20%20%20%20%20%20%20%20%20%20%20%20%20%20%20zoomControl%3A%20true%2C%0A%20%20%20%20%20%20%20%20%20%20%20%20%20%20%20%20%20%20%20%20preferCanvas%3A%20false%2C%0A%20%20%20%20%20%20%20%20%20%20%20%20%20%20%20%20%7D%0A%20%20%20%20%20%20%20%20%20%20%20%20%29%3B%0A%0A%20%20%20%20%20%20%20%20%20%20%20%20%0A%0A%20%20%20%20%20%20%20%20%0A%20%20%20%20%0A%20%20%20%20%20%20%20%20%20%20%20%20var%20tile_layer_f2a3f8d0c760491daab59fa56575a5e4%20%3D%20L.tileLayer%28%0A%20%20%20%20%20%20%20%20%20%20%20%20%20%20%20%20%22https%3A//%7Bs%7D.tile.openstreetmap.org/%7Bz%7D/%7Bx%7D/%7By%7D.png%22%2C%0A%20%20%20%20%20%20%20%20%20%20%20%20%20%20%20%20%7B%22attribution%22%3A%20%22Data%20by%20%5Cu0026copy%3B%20%5Cu003ca%20href%3D%5C%22http%3A//openstreetmap.org%5C%22%5Cu003eOpenStreetMap%5Cu003c/a%5Cu003e%2C%20under%20%5Cu003ca%20href%3D%5C%22http%3A//www.openstreetmap.org/copyright%5C%22%5Cu003eODbL%5Cu003c/a%5Cu003e.%22%2C%20%22detectRetina%22%3A%20false%2C%20%22maxNativeZoom%22%3A%2018%2C%20%22maxZoom%22%3A%2018%2C%20%22minZoom%22%3A%200%2C%20%22noWrap%22%3A%20false%2C%20%22opacity%22%3A%201%2C%20%22subdomains%22%3A%20%22abc%22%2C%20%22tms%22%3A%20false%7D%0A%20%20%20%20%20%20%20%20%20%20%20%20%29.addTo%28map_04696beaa32d4a17a3be36a5384410fe%29%3B%0A%20%20%20%20%20%20%20%20%0A%20%20%20%20%0A%20%20%20%20%20%20%20%20%20%20%20%20var%20heat_map_8029f1bfdf91465690500bce34804c07%20%3D%20L.heatLayer%28%0A%20%20%20%20%20%20%20%20%20%20%20%20%20%20%20%20%5B%5B35.76426996%2C%20-78.76784231%5D%2C%20%5B35.70243072%2C%20-78.78886572%5D%2C%20%5B35.77847022%2C%20-78.872425%5D%2C%20%5B35.73928886%2C%20-78.78940012%5D%2C%20%5B35.80513222%2C%20-78.77530139%5D%2C%20%5B35.78591241%2C%20-78.76416654%5D%2C%20%5B35.79414152%2C%20-78.77233961%5D%2C%20%5B35.7368941%2C%20-78.79376167%5D%2C%20%5B35.71281592%2C%20-78.80531234%5D%2C%20%5B35.73986537%2C%20-78.7473754%5D%2C%20%5B35.76765913%2C%20-78.74094236%5D%2C%20%5B35.79139096%2C%20-78.77820741%5D%2C%20%5B35.77974492%2C%20-78.80702664%5D%2C%20%5B35.74350228%2C%20-78.76254196%5D%2C%20%5B35.79126679%2C%20-78.76841139%5D%2C%20%5B35.78508307%2C%20-78.78119645%5D%2C%20%5B35.75954137%2C%20-78.74137283%5D%2C%20%5B35.76126621%2C%20-78.7418746%5D%2C%20%5B35.74052807%2C%20-78.80475789%5D%2C%20%5B35.78809044%2C%20-78.76395323%5D%5D%2C%0A%20%20%20%20%20%20%20%20%20%20%20%20%20%20%20%20%7B%22blur%22%3A%2015%2C%20%22maxZoom%22%3A%2018%2C%20%22minOpacity%22%3A%200.5%2C%20%22radius%22%3A%2025%7D%0A%20%20%20%20%20%20%20%20%20%20%20%20%29.addTo%28map_04696beaa32d4a17a3be36a5384410fe%29%3B%0A%20%20%20%20%20%20%20%20%0A%3C/script%3E onload=\"this.contentDocument.open();this.contentDocument.write(    decodeURIComponent(this.getAttribute('data-html')));this.contentDocument.close();\" allowfullscreen webkitallowfullscreen mozallowfullscreen></iframe></div></div>"
      ],
      "text/plain": [
       "<folium.folium.Map at 0x1df833f8b50>"
      ]
     },
     "execution_count": 26,
     "metadata": {},
     "output_type": "execute_result"
    }
   ],
   "source": [
    "!pip install folium\n",
    "import folium\n",
    "map = folium.Map()\n",
    "HeatMap(lat_lon_pairs).add_to(map)          #adding longitude and latitude values to map to create heat map.\n",
    "map\n",
    "\n",
    "\n",
    "# Here we can see town cary where most crashes occured."
   ]
  },
  {
   "cell_type": "markdown",
   "id": "1a72f1ce",
   "metadata": {},
   "source": [
    "# Road condition VS year"
   ]
  },
  {
   "cell_type": "code",
   "execution_count": 27,
   "id": "ebd99ba9",
   "metadata": {
    "scrolled": true
   },
   "outputs": [
    {
     "data": {
      "text/plain": [
       "Text(0.5, 1.0, 'Road conditions VS Year')"
      ]
     },
     "execution_count": 27,
     "metadata": {},
     "output_type": "execute_result"
    },
    {
     "data": {
      "image/png": "[encoded data removed]",
      "text/plain": [
       "<Figure size 432x288 with 1 Axes>"
      ]
     },
     "metadata": {},
     "output_type": "display_data"
    }
   ],
   "source": [
    "plt.scatter(df['month'], df['rdcondition'], c='deeppink')\n",
    "plt.xlabel('Month')                              #plotting month and roadcondition using scatter plot\n",
    "plt.ylabel('Road Condition')\n",
    "plt.title('Road conditions VS Year')             #this gives the title for scatter plot"
   ]
  },
  {
   "cell_type": "markdown",
   "id": "e0525d25",
   "metadata": {},
   "source": [
    "#### Here we can see in which month which roadcondition caused crash."
   ]
  },
  {
   "cell_type": "markdown",
   "id": "608016ec",
   "metadata": {},
   "source": [
    "# Conclusion\n",
    "# According to my analysis:\n",
    "## To be safe on roads in the town of cary, travel on sunday evenings when weather is clear."
   ]
  },
  {
   "cell_type": "code",
   "execution_count": null,
   "id": "27d645a4",
   "metadata": {},
   "outputs": [],
   "source": []
  }
 ],
 "metadata": {
  "kernelspec": {
   "display_name": "Python 3",
   "language": "python",
   "name": "python3"
  },
  "language_info": {
   "codemirror_mode": {
    "name": "ipython",
    "version": 3
   },
   "file_extension": ".py",
   "mimetype": "text/x-python",
   "name": "python",
   "nbconvert_exporter": "python",
   "pygments_lexer": "ipython3",
   "version": "3.8.8"
  }
 },
 "nbformat": 4,
 "nbformat_minor": 5
}
